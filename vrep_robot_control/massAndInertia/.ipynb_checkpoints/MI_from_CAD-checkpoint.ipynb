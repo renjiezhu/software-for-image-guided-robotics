{
 "cells": [
  {
   "cell_type": "markdown",
   "metadata": {},
   "source": [
    "### Read and print mass, inertia and center of mass of each part of robot."
   ]
  },
  {
   "cell_type": "code",
   "execution_count": 2,
   "metadata": {},
   "outputs": [],
   "source": [
    "import numpy as np\n",
    "from setMassInVrep import getMassfromSW\n",
    "num_links = 5\n",
    "\n",
    "f = open('mass.txt', 'w')\n",
    "for i in range(num_links):\n",
    "    ms, it, ct = getMassfromSW('arm'+str(i))\n",
    "    f.write(str(ms))\n",
    "    f.write('\\n')\n",
    "    f.write(str(it.reshape(9,1)))\n",
    "    f.write('\\n')\n",
    "    f.write(str(ct.reshape(3,1)))\n",
    "    f.write('\\n')\n",
    "    \n",
    "f.close()"
   ]
  },
  {
   "cell_type": "code",
   "execution_count": 4,
   "metadata": {},
   "outputs": [
    {
     "name": "stdout",
     "output_type": "stream",
     "text": [
      "M: 0.15618 \n",
      "\n",
      "Inertia: [[ 3.32368997e-04  8.56697400e-06  1.47265975e-09]\n",
      " [ 8.56697400e-06  1.48421282e-01 -4.48200794e-10]\n",
      " [ 1.47265975e-09 -4.48200794e-10  1.48435858e-01]] \n",
      "\n",
      "Center of mass: [3.3655e-01 1.0000e-05 0.0000e+00] \n",
      "\n",
      "M: 0.03126 \n",
      "\n",
      "Inertia: [[ 1.47036148e-04  1.15163148e-08 -7.28717210e-05]\n",
      " [ 1.15163148e-08  4.06515168e-01 -0.00000000e+00]\n",
      " [-7.28717210e-05 -0.00000000e+00  4.06448357e-01]] \n",
      "\n",
      "Center of mass: [ 6.3709e-01 -0.0000e+00 -1.1000e-04] \n",
      "\n",
      "M: 0.02228 \n",
      "\n",
      "Inertia: [[ 1.10927738e-04 -7.27823160e-05  7.63016158e-09]\n",
      " [-7.27823160e-05  4.98311700e-01  4.48833034e-10]\n",
      " [ 7.63016158e-09  4.48833034e-10  4.98368509e-01]] \n",
      "\n",
      "Center of mass: [ 7.0537e-01 -1.0000e-04  0.0000e+00] \n",
      "\n",
      "M: 0.02457 \n",
      "\n",
      "Inertia: [[ 1.47572609e-03 -2.72679284e-04 -2.03665792e-02]\n",
      " [-2.72679284e-04  6.19937230e-01  4.25274725e-06]\n",
      " [-2.03665792e-02  4.25274725e-06  6.18507299e-01]] \n",
      "\n",
      "Center of mass: [ 7.8566e-01 -3.5000e-04 -2.4760e-02] \n",
      "\n",
      "M: 0.00663 \n",
      "\n",
      "Inertia: [[ 6.53615385e-04  3.18291101e-04 -1.90101900e-02]\n",
      " [ 3.18291101e-04  6.23075946e-01 -8.69381599e-06]\n",
      " [-1.90101900e-02 -8.69381599e-06  6.22488756e-01]] \n",
      "\n",
      "Center of mass: [ 7.8919e-01  4.0000e-04 -2.4120e-02] \n",
      "\n"
     ]
    }
   ],
   "source": [
    "for i in range(num_links):\n",
    "    ms, it, ct = getMassfromSW('arm'+str(i))\n",
    "    print('M:' , ms, '\\n')\n",
    "    print('Inertia:', it, '\\n')\n",
    "    print('Center of mass:', ct, '\\n')\n"
   ]
  }
 ],
 "metadata": {
  "kernelspec": {
   "display_name": "Python 3",
   "language": "python",
   "name": "python3"
  },
  "language_info": {
   "codemirror_mode": {
    "name": "ipython",
    "version": 3
   },
   "file_extension": ".py",
   "mimetype": "text/x-python",
   "name": "python",
   "nbconvert_exporter": "python",
   "pygments_lexer": "ipython3",
   "version": "3.6.8"
  }
 },
 "nbformat": 4,
 "nbformat_minor": 2
}
