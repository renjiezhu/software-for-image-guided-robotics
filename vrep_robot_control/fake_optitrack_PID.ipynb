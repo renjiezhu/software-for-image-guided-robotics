{
 "cells": [
  {
   "cell_type": "code",
   "execution_count": 1,
   "metadata": {},
   "outputs": [],
   "source": [
    "import numpy as np\n",
    "import os\n",
    "import sys\n",
    "sys.path.append('..')\n",
    "from pyrep import PyRep\n",
    "from arm import CtRobot\n",
    "from ct_robot_control import *"
   ]
  },
  {
   "cell_type": "code",
   "execution_count": 2,
   "metadata": {},
   "outputs": [],
   "source": [
    "pr = PyRep()\n",
    "pr.launch(os.getcwd() + '/DH_ct.ttt', headless=True)\n",
    "pr.start()\n",
    "ct_robot = CtRobot()"
   ]
  },
  {
   "cell_type": "code",
   "execution_count": 3,
   "metadata": {},
   "outputs": [
    {
     "data": {
      "text/plain": [
       "array([[-2.31688068e-06, -6.94912160e-06, -1.00000131e+00,\n",
       "        -1.54715453e-05, -5.04003765e-05,  1.13804344e-05],\n",
       "       [ 4.39650714e-02, -1.09268394e-05,  2.28488594e-02,\n",
       "        -2.15192995e-05, -1.00006831e+00, -1.83498287e-05],\n",
       "       [ 8.16838011e-08,  1.23964652e-01,  1.12090365e-03,\n",
       "        -9.99980688e-01, -4.45439582e-05, -1.13959795e-05],\n",
       "       [-6.44994453e-02,  3.49091169e-06, -7.22544733e-03,\n",
       "        -3.01135515e-06,  3.16217601e-01,  1.30469498e-05],\n",
       "       [ 1.05118798e-03, -2.29370035e-02, -1.15110861e-05,\n",
       "        -3.75903837e-05, -5.51350240e-05,  9.99978364e-01],\n",
       "       [-5.58793545e-08,  9.99999821e-01,  5.01849630e-04,\n",
       "        -1.54715453e-05, -5.04003765e-05,  1.13804344e-05],\n",
       "       [ 0.00000000e+00,  5.01968898e-04, -9.99999881e-01,\n",
       "        -1.54715453e-05, -5.04003765e-05,  1.13804344e-05]])"
      ]
     },
     "execution_count": 3,
     "metadata": {},
     "output_type": "execute_result"
    }
   ],
   "source": [
    "ct_robot.getJacobian()"
   ]
  },
  {
   "cell_type": "code",
   "execution_count": null,
   "metadata": {},
   "outputs": [],
   "source": [
    "# disired trajectory\n",
    "theta = np.linspace(0, 2*np.pi, 1000)\n",
    "\n",
    "x0, y0, z0 = ct_robot._ik_tip.get_position()\n",
    "\n",
    "xd = 0.01*np.cos(theta) + x0\n",
    "yd = 0.01*np.sin(theta) + y0\n",
    "zd = 0 + z0\n",
    "\n",
    "\n",
    "for i in range(1000):\n",
    "    IK_via_vrep(ct_robot, [xd[i], yd[i], zd[i]], [0,0,0], pr, 0.01)\n",
    "    jt_pos = ct_robot.get_joint_positions()\n",
    "    \n",
    "    \n",
    "# Fake measurement\n",
    "noise = np.random.normal(0, 0.02, (1,3))\n",
    "xm = xd + noise[0]\n",
    "ym = yd + noise[1]\n",
    "zm = zd + noise[2]\n",
    "\n",
    "ct_robot._ik_tip.g"
   ]
  }
 ],
 "metadata": {
  "kernelspec": {
   "display_name": "Python 3",
   "language": "python",
   "name": "python3"
  },
  "language_info": {
   "codemirror_mode": {
    "name": "ipython",
    "version": 3
   },
   "file_extension": ".py",
   "mimetype": "text/x-python",
   "name": "python",
   "nbconvert_exporter": "python",
   "pygments_lexer": "ipython3",
   "version": "3.6.8"
  }
 },
 "nbformat": 4,
 "nbformat_minor": 2
}
