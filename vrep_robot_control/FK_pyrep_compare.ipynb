{
 "cells": [
  {
   "cell_type": "code",
   "execution_count": 1,
   "metadata": {},
   "outputs": [],
   "source": [
    "import numpy as np\n",
    "from pyrep import PyRep\n",
    "from arm import CtRobot\n",
    "from rigid_kinematics import dh_robot_config\n",
    "import sympy as sp\n",
    "\n",
    "pi = np.pi/2\n",
    "pr = PyRep()\n",
    "q = []\n",
    "for i in range(7):\n",
    "    q.append(sp.Symbol(eval('q'+str(i+1))))"
   ]
  },
  {
   "cell_type": "code",
   "execution_count": 2,
   "metadata": {},
   "outputs": [],
   "source": [
    "pr.launch('/home/acrmri/Documents/igr/src/software_interface/vrep_robot_control/ct_robot_realigned.ttt', headless=True)"
   ]
  },
  {
   "cell_type": "code",
   "execution_count": 3,
   "metadata": {},
   "outputs": [],
   "source": [
    "pr.start()\n",
    "ct_robot = CtRobot()"
   ]
  },
  {
   "cell_type": "code",
   "execution_count": null,
   "metadata": {},
   "outputs": [],
   "source": [
    "alpha = [pi/2, pi*3/2]\n",
    "theta = [0, pi*3/2]\n",
    "D = [0.030992, 0.10218-0.052819+q[0]]\n",
    "a = [0, 0.05299-0.030992]"
   ]
  },
  {
   "cell_type": "code",
   "execution_count": null,
   "metadata": {},
   "outputs": [],
   "source": [
    "robot = dh_robot_config(num_joints = 4, alpha = [-pi/2, pi/2, 0, pi/2], \n",
    "                        theta = [0, pi/2, 0, pi/2], \n",
    "                        D = [0, 0, 0, 0], \n",
    "                        a = [0, 0, 0, 0], \n",
    "                        jointType = ['p', 'p', 'p', 'r'], ai = pi/2, aj = 0, ak = 0)\n"
   ]
  },
  {
   "cell_type": "code",
   "execution_count": 10,
   "metadata": {},
   "outputs": [],
   "source": [
    "pr.shutdown()\n"
   ]
  }
 ],
 "metadata": {
  "kernelspec": {
   "display_name": "Python 3",
   "language": "python",
   "name": "python3"
  },
  "language_info": {
   "codemirror_mode": {
    "name": "ipython",
    "version": 3
   },
   "file_extension": ".py",
   "mimetype": "text/x-python",
   "name": "python",
   "nbconvert_exporter": "python",
   "pygments_lexer": "ipython3",
   "version": "3.6.8"
  }
 },
 "nbformat": 4,
 "nbformat_minor": 2
}
