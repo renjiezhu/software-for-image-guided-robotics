{
 "cells": [
  {
   "cell_type": "code",
   "execution_count": 1,
   "metadata": {},
   "outputs": [],
   "source": [
    "import numpy as np\n",
    "from pyrep import PyRep\n",
    "from arm import CtRobot\n",
    "from rigid_kinematics import dh_robot_config\n",
    "import sympy as sp\n",
    "import os\n",
    "import transforms3d as t3d\n",
    "\n",
    "pi = np.pi/2\n",
    "pr = PyRep()\n",
    "q = []\n",
    "for i in range(7):\n",
    "    q.append(sp.Symbol('q'+str(i)))"
   ]
  },
  {
   "cell_type": "code",
   "execution_count": 2,
   "metadata": {},
   "outputs": [],
   "source": [
    "pr.launch(os.getcwd() + '/DH_ct.ttt', headless=True)"
   ]
  },
  {
   "cell_type": "code",
   "execution_count": 3,
   "metadata": {},
   "outputs": [],
   "source": [
    "pr.start()\n",
    "ct_robot = CtRobot()"
   ]
  },
  {
   "cell_type": "markdown",
   "metadata": {},
   "source": [
    "## My calibration (based on vrep 'reference_frame')"
   ]
  },
  {
   "cell_type": "code",
   "execution_count": 4,
   "metadata": {},
   "outputs": [],
   "source": [
    "alpha = [pi/2, pi*3/2]\n",
    "theta = [0, pi*3/2]\n",
    "D = [0.030992, 0.10218-0.052819+q[0]]\n",
    "a = [0, 0.05299-0.030992]"
   ]
  },
  {
   "cell_type": "markdown",
   "metadata": {},
   "source": [
    "## Based on DH-frame"
   ]
  },
  {
   "cell_type": "code",
   "execution_count": 5,
   "metadata": {},
   "outputs": [],
   "source": [
    "a = [0, 0, 0, 0, 0.08, 0.08, 0.0557, 0]\n",
    "alpha = [pi/2, -pi/2, 0, pi/2, pi/2, pi/2, -pi/2, 0]\n",
    "D = [q[0], q[1], 0, 0, 0, 0, 0.0274 + q[6], 0.115]\n",
    "theta = [0, 0, q[2], q[3]+pi/2, q[4], q[5]-pi/2, 0, pi/2]\n",
    "jointType = ['p', 'p', 'r', 'r', 'r', 'r', 'p']"
   ]
  },
  {
   "cell_type": "code",
   "execution_count": 6,
   "metadata": {},
   "outputs": [],
   "source": [
    "robot = dh_robot_config(num_joints=7, alpha=alpha, theta=theta, D=D, a=a, jointType=jointType, ai = 0, aj = 0, ak = 0)"
   ]
  },
  {
   "cell_type": "markdown",
   "metadata": {},
   "source": [
    "## V-REP"
   ]
  },
  {
   "cell_type": "code",
   "execution_count": 7,
   "metadata": {},
   "outputs": [
    {
     "name": "stdout",
     "output_type": "stream",
     "text": [
      "Joint position is [0.0, 0.0, 0.0, 0.0, 0.0, 0.0, 0.0]\n",
      "Tip position is [0.0010542183881625533, -0.6585248708724976, 0.22177208960056305]\n",
      "Tip orientation is [1.1082737216838723e-07, -4.470347647611561e-08, 8.568166975919667e-08]\n"
     ]
    }
   ],
   "source": [
    "joint_pos = [ct_robot.joints[i].get_joint_position() for i in range(ct_robot._num_joints)]\n",
    "print('Joint position is', joint_pos)\n",
    "print('Tip position is', ct_robot._ik_tip.get_position())\n",
    "print('Tip orientation is', ct_robot._ik_tip.get_orientation())"
   ]
  },
  {
   "cell_type": "markdown",
   "metadata": {},
   "source": [
    "## DH-FK"
   ]
  },
  {
   "cell_type": "code",
   "execution_count": 8,
   "metadata": {
    "scrolled": true
   },
   "outputs": [
    {
     "name": "stdout",
     "output_type": "stream",
     "text": [
      "Tip position is [ 0.14499972  0.11759972 -0.05308585]\n",
      "Tip orientation is (2.356194490192345, 0.785398163397448, 0.7853981633974466)\n"
     ]
    }
   ],
   "source": [
    "T_j7 = sp.lambdify(q, robot._T[6])(*(joint_pos))\n",
    "pos_j7 = T_j7[:3, 3]\n",
    "R_j7 = T_j7[:3, :3]\n",
    "ori_j7 = t3d.euler.mat2euler(R_j7)\n",
    "print('Tip position is', pos_j7)\n",
    "print('Tip orientation is', ori_j7)"
   ]
  },
  {
   "cell_type": "markdown",
   "metadata": {},
   "source": [
    "num_joints = 8\n",
    "alpha = [-pi/2, pi/2, 0, pi/2, pi/2, -pi/2, -pi/2, 0]\n",
    "theta = [0, pi/2, 0, pi/2, pi/2, 0, -pi/2, 0]\n",
    "D = [0, 0, 0, 0, 0, 0, 0, 0.05]\n",
    "a = [0, 0, 0, 0, 0.08, 0.08, 0, 0]\n",
    "jointType = ['p', 'p', 'p', 'r', 'r', 'r', 'r', 'p']\n",
    "ai = pi/2\n",
    "aj = 0\n",
    "ak = 0\n",
    "\n",
    "robot1 = dh_robot_config(num_joints, alpha, theta, D, a, jointType, ai, aj, ak)"
   ]
  },
  {
   "cell_type": "code",
   "execution_count": 20,
   "metadata": {},
   "outputs": [
    {
     "data": {
      "text/latex": [
       "$\\displaystyle \\left[\\begin{matrix}1 & 0 & 0 & 0\\\\0 & 0.707106781186548 & -0.707106781186547 & - 1.41421356237309 q_{1}\\\\0 & 0.707106781186547 & 0.707106781186548 & 1.4142135623731 q_{1}\\\\0 & 0 & 0 & 1\\end{matrix}\\right]$"
      ],
      "text/plain": [
       "Matrix([\n",
       "[1,                 0,                  0,                    0],\n",
       "[0, 0.707106781186548, -0.707106781186547, -1.41421356237309*q1],\n",
       "[0, 0.707106781186547,  0.707106781186548,   1.4142135623731*q1],\n",
       "[0,                 0,                  0,                    1]])"
      ]
     },
     "execution_count": 20,
     "metadata": {},
     "output_type": "execute_result"
    }
   ],
   "source": [
    "robot._Tjoint[1]"
   ]
  },
  {
   "cell_type": "markdown",
   "metadata": {},
   "source": [
    "## Compare"
   ]
  },
  {
   "cell_type": "code",
   "execution_count": null,
   "metadata": {},
   "outputs": [],
   "source": [
    "for i in range(ct_robot._num_joints):\n",
    "    print('Tip position is', ct_robot._ik_tip.get_position())\n",
    "    print('Tip orientation is', ct_robot._ik_tip.get_orientation())"
   ]
  },
  {
   "cell_type": "code",
   "execution_count": null,
   "metadata": {},
   "outputs": [],
   "source": [
    "pr.shutdown()\n"
   ]
  }
 ],
 "metadata": {
  "kernelspec": {
   "display_name": "Python 3",
   "language": "python",
   "name": "python3"
  },
  "language_info": {
   "codemirror_mode": {
    "name": "ipython",
    "version": 3
   },
   "file_extension": ".py",
   "mimetype": "text/x-python",
   "name": "python",
   "nbconvert_exporter": "python",
   "pygments_lexer": "ipython3",
   "version": "3.6.8"
  }
 },
 "nbformat": 4,
 "nbformat_minor": 2
}
