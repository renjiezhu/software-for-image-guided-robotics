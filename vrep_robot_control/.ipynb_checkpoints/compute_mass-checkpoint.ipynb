{
 "cells": [
  {
   "cell_type": "code",
   "execution_count": 1,
   "metadata": {},
   "outputs": [],
   "source": [
    "import numpy as np"
   ]
  },
  {
   "cell_type": "code",
   "execution_count": 2,
   "metadata": {},
   "outputs": [],
   "source": [
    "inertia = np.zeros((3, 3))\n",
    "centr_of_mass = np.zeros(3)\n",
    "f = open('../new_teststand/Mass_properties.txt')\n",
    "lines = f.readlines()\n",
    "for i, line in enumerate(lines):\n",
    "    if 'Mass =' in line:\n",
    "        mass = float(line.split('=')[1].strip().split(' ')[0])/1000\n",
    "    if 'Center of mass:' in line:\n",
    "        curr = i\n",
    "    if 'Moments of inertia: ' in line:\n",
    "        curr_inertia = i\n",
    "for i in range(3):\n",
    "    centr_of_mass[i] = lines[curr+i+1].split('=')[1].strip()\n",
    "for i in range(3):\n",
    "    line = lines[curr_inertia+i+2]\n",
    "    txt = line.split('=')\n",
    "    for j in range(3):\n",
    "        inertia[i, j] = float(txt[j+1].strip().split('\\t')[0])"
   ]
  },
  {
   "cell_type": "code",
   "execution_count": 3,
   "metadata": {},
   "outputs": [],
   "source": [
    "tmp = centr_of_mass.copy()\n",
    "centr_of_mass[2] = tmp[1]\n",
    "centr_of_mass[1] = -tmp[2]\n",
    "centr_of_mass = centr_of_mass/1000"
   ]
  },
  {
   "cell_type": "code",
   "execution_count": 4,
   "metadata": {},
   "outputs": [
    {
     "data": {
      "text/plain": [
       "array([-0.41602, -0.36757,  0.35154])"
      ]
     },
     "execution_count": 4,
     "metadata": {},
     "output_type": "execute_result"
    }
   ],
   "source": [
    "centr_of_mass"
   ]
  },
  {
   "cell_type": "code",
   "execution_count": 5,
   "metadata": {},
   "outputs": [
    {
     "data": {
      "text/plain": [
       "0.03252"
      ]
     },
     "execution_count": 5,
     "metadata": {},
     "output_type": "execute_result"
    }
   ],
   "source": [
    "mass"
   ]
  },
  {
   "cell_type": "code",
   "execution_count": 6,
   "metadata": {},
   "outputs": [],
   "source": [
    "inertia = inertia*1e-9/mass"
   ]
  },
  {
   "cell_type": "code",
   "execution_count": 7,
   "metadata": {},
   "outputs": [],
   "source": [
    "tmp = inertia.copy()\n",
    "inertia[0,0] = tmp[0,0]\n",
    "inertia[0,1] = -tmp[0,2]\n",
    "inertia[0,2] = tmp[0,1]\n",
    "inertia[1,0] = -tmp[2,0]\n",
    "inertia[1,1] = tmp[2,2]\n",
    "inertia[1,2] = -tmp[2,1]\n",
    "inertia[2,0] = tmp[1,0]\n",
    "inertia[2,1] = -tmp[1,2]\n",
    "inertia[2,2] = tmp[1,1]"
   ]
  },
  {
   "cell_type": "code",
   "execution_count": 8,
   "metadata": {},
   "outputs": [
    {
     "data": {
      "text/plain": [
       "array([[ 0.25946554,  0.15273541, -0.14624248],\n",
       "       [ 0.15273541,  0.29688145, -0.12925126],\n",
       "       [-0.14624248, -0.12925126,  0.30908224]])"
      ]
     },
     "execution_count": 8,
     "metadata": {},
     "output_type": "execute_result"
    }
   ],
   "source": [
    "inertia"
   ]
  }
 ],
 "metadata": {
  "kernelspec": {
   "display_name": "Python 3",
   "language": "python",
   "name": "python3"
  },
  "language_info": {
   "codemirror_mode": {
    "name": "ipython",
    "version": 3
   },
   "file_extension": ".py",
   "mimetype": "text/x-python",
   "name": "python",
   "nbconvert_exporter": "python",
   "pygments_lexer": "ipython3",
   "version": "3.7.3"
  }
 },
 "nbformat": 4,
 "nbformat_minor": 2
}
