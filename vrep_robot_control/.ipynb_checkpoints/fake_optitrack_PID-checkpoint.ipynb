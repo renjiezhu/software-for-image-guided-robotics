{
 "cells": [
  {
   "cell_type": "code",
   "execution_count": 1,
   "metadata": {},
   "outputs": [],
   "source": [
    "import numpy as np\n",
    "import os\n",
    "import sys\n",
    "sys.path.append('..')\n",
    "from pyrep import PyRep\n",
    "from arm import CtRobot\n",
    "from ct_robot_control import *\n",
    "\n",
    "pr = PyRep()"
   ]
  },
  {
   "cell_type": "code",
   "execution_count": 2,
   "metadata": {},
   "outputs": [],
   "source": [
    "pr.launch(os.getcwd() + '/DH_ct.ttt', headless=True)\n",
    "pr.start()\n",
    "ct_robot = CtRobot()\n"
   ]
  },
  {
   "cell_type": "code",
   "execution_count": 4,
   "metadata": {},
   "outputs": [
    {
     "ename": "RuntimeError",
     "evalue": "The call failed on the V-REP side. Return value: -1",
     "output_type": "error",
     "traceback": [
      "\u001b[0;31m---------------------------------------------------------------------------\u001b[0m",
      "\u001b[0;31mRuntimeError\u001b[0m                              Traceback (most recent call last)",
      "\u001b[0;32m<ipython-input-4-37035a08cf29>\u001b[0m in \u001b[0;36m<module>\u001b[0;34m\u001b[0m\n\u001b[1;32m      1\u001b[0m \u001b[0;32mwhile\u001b[0m \u001b[0;32mTrue\u001b[0m\u001b[0;34m:\u001b[0m\u001b[0;34m\u001b[0m\u001b[0;34m\u001b[0m\u001b[0m\n\u001b[1;32m      2\u001b[0m     \u001b[0mpr\u001b[0m\u001b[0;34m.\u001b[0m\u001b[0mstep\u001b[0m\u001b[0;34m(\u001b[0m\u001b[0;34m)\u001b[0m\u001b[0;34m\u001b[0m\u001b[0;34m\u001b[0m\u001b[0m\n\u001b[0;32m----> 3\u001b[0;31m     \u001b[0mj\u001b[0m \u001b[0;34m=\u001b[0m \u001b[0mct_robot\u001b[0m\u001b[0;34m.\u001b[0m\u001b[0mgetJacobian\u001b[0m\u001b[0;34m(\u001b[0m\u001b[0mct_robot\u001b[0m\u001b[0;34m.\u001b[0m\u001b[0m_ik_group\u001b[0m\u001b[0;34m)\u001b[0m\u001b[0;34m\u001b[0m\u001b[0;34m\u001b[0m\u001b[0m\n\u001b[0m\u001b[1;32m      4\u001b[0m     \u001b[0mprint\u001b[0m\u001b[0;34m(\u001b[0m\u001b[0mj\u001b[0m\u001b[0;34m)\u001b[0m\u001b[0;34m\u001b[0m\u001b[0;34m\u001b[0m\u001b[0m\n",
      "\u001b[0;32m~/Documents/igr/src/software_interface/vrep_robot_control/arm.py\u001b[0m in \u001b[0;36mgetJacobian\u001b[0;34m(self, handle)\u001b[0m\n\u001b[1;32m     52\u001b[0m \u001b[0;34m\u001b[0m\u001b[0m\n\u001b[1;32m     53\u001b[0m     \u001b[0;32mdef\u001b[0m \u001b[0mgetJacobian\u001b[0m\u001b[0;34m(\u001b[0m\u001b[0mself\u001b[0m\u001b[0;34m,\u001b[0m \u001b[0mhandle\u001b[0m\u001b[0;34m)\u001b[0m\u001b[0;34m:\u001b[0m\u001b[0;34m\u001b[0m\u001b[0;34m\u001b[0m\u001b[0m\n\u001b[0;32m---> 54\u001b[0;31m         \u001b[0m_\u001b[0m\u001b[0;34m,\u001b[0m \u001b[0m_\u001b[0m\u001b[0;34m,\u001b[0m \u001b[0mJacobian\u001b[0m\u001b[0;34m,\u001b[0m \u001b[0m_\u001b[0m \u001b[0;34m=\u001b[0m \u001b[0mutils\u001b[0m\u001b[0;34m.\u001b[0m\u001b[0mscript_call\u001b[0m\u001b[0;34m(\u001b[0m\u001b[0;34m'getJacobian'\u001b[0m\u001b[0;34m,\u001b[0m \u001b[0msim_scripttype_childscript\u001b[0m\u001b[0;34m,\u001b[0m \u001b[0mints\u001b[0m\u001b[0;34m=\u001b[0m\u001b[0;34m[\u001b[0m\u001b[0mhandle\u001b[0m\u001b[0;34m]\u001b[0m\u001b[0;34m,\u001b[0m \u001b[0;34m)\u001b[0m\u001b[0;34m\u001b[0m\u001b[0;34m\u001b[0m\u001b[0m\n\u001b[0m\u001b[1;32m     55\u001b[0m         \u001b[0;32mreturn\u001b[0m \u001b[0mJacobian\u001b[0m\u001b[0;34m\u001b[0m\u001b[0;34m\u001b[0m\u001b[0m\n\u001b[1;32m     56\u001b[0m \u001b[0;34m\u001b[0m\u001b[0m\n",
      "\u001b[0;32m~/.local/lib/python3.6/site-packages/pyrep/backend/utils.py\u001b[0m in \u001b[0;36mscript_call\u001b[0;34m(function_name_at_script_name, script_handle_or_type, ints, floats, strings, bytes)\u001b[0m\n\u001b[1;32m     55\u001b[0m     return vrep.simExtCallScriptFunction(\n\u001b[1;32m     56\u001b[0m         \u001b[0mfunction_name_at_script_name\u001b[0m\u001b[0;34m,\u001b[0m \u001b[0mscript_handle_or_type\u001b[0m\u001b[0;34m,\u001b[0m \u001b[0mlist\u001b[0m\u001b[0;34m(\u001b[0m\u001b[0mints\u001b[0m\u001b[0;34m)\u001b[0m\u001b[0;34m,\u001b[0m\u001b[0;34m\u001b[0m\u001b[0;34m\u001b[0m\u001b[0m\n\u001b[0;32m---> 57\u001b[0;31m         list(floats), list(strings), bytes)\n\u001b[0m",
      "\u001b[0;32m~/.local/lib/python3.6/site-packages/pyrep/backend/vrep.py\u001b[0m in \u001b[0;36msimExtCallScriptFunction\u001b[0;34m(functionNameAtScriptName, scriptHandleOrType, inputInts, inputFloats, inputStrings, inputBuffer)\u001b[0m\n\u001b[1;32m    575\u001b[0m         \u001b[0moutInt\u001b[0m\u001b[0;34m,\u001b[0m \u001b[0moutIntCnt\u001b[0m\u001b[0;34m,\u001b[0m \u001b[0moutFloat\u001b[0m\u001b[0;34m,\u001b[0m \u001b[0moutFloatCnt\u001b[0m\u001b[0;34m,\u001b[0m\u001b[0;34m\u001b[0m\u001b[0;34m\u001b[0m\u001b[0m\n\u001b[1;32m    576\u001b[0m         outString, outStringCnt, outBuffer, outBufferSize)\n\u001b[0;32m--> 577\u001b[0;31m     \u001b[0m_check_return\u001b[0m\u001b[0;34m(\u001b[0m\u001b[0mret\u001b[0m\u001b[0;34m)\u001b[0m\u001b[0;34m\u001b[0m\u001b[0;34m\u001b[0m\u001b[0m\n\u001b[0m\u001b[1;32m    578\u001b[0m \u001b[0;34m\u001b[0m\u001b[0m\n\u001b[1;32m    579\u001b[0m     \u001b[0mret_ints\u001b[0m \u001b[0;34m=\u001b[0m \u001b[0;34m[\u001b[0m\u001b[0moutInt\u001b[0m\u001b[0;34m[\u001b[0m\u001b[0;36m0\u001b[0m\u001b[0;34m]\u001b[0m\u001b[0;34m[\u001b[0m\u001b[0mi\u001b[0m\u001b[0;34m]\u001b[0m \u001b[0;32mfor\u001b[0m \u001b[0mi\u001b[0m \u001b[0;32min\u001b[0m \u001b[0mrange\u001b[0m\u001b[0;34m(\u001b[0m\u001b[0moutIntCnt\u001b[0m\u001b[0;34m[\u001b[0m\u001b[0;36m0\u001b[0m\u001b[0;34m]\u001b[0m\u001b[0;34m)\u001b[0m\u001b[0;34m]\u001b[0m\u001b[0;34m\u001b[0m\u001b[0;34m\u001b[0m\u001b[0m\n",
      "\u001b[0;32m~/.local/lib/python3.6/site-packages/pyrep/backend/vrep.py\u001b[0m in \u001b[0;36m_check_return\u001b[0;34m(ret)\u001b[0m\n\u001b[1;32m      7\u001b[0m     \u001b[0;32mif\u001b[0m \u001b[0mret\u001b[0m \u001b[0;34m<\u001b[0m \u001b[0;36m0\u001b[0m\u001b[0;34m:\u001b[0m\u001b[0;34m\u001b[0m\u001b[0;34m\u001b[0m\u001b[0m\n\u001b[1;32m      8\u001b[0m         raise RuntimeError(\n\u001b[0;32m----> 9\u001b[0;31m             'The call failed on the V-REP side. Return value: %d' % ret)\n\u001b[0m\u001b[1;32m     10\u001b[0m \u001b[0;34m\u001b[0m\u001b[0m\n\u001b[1;32m     11\u001b[0m \u001b[0;34m\u001b[0m\u001b[0m\n",
      "\u001b[0;31mRuntimeError\u001b[0m: The call failed on the V-REP side. Return value: -1"
     ]
    }
   ],
   "source": [
    "while True:\n",
    "    pr.step()\n",
    "    j = ct_robot.getJacobian(ct_robot._ik_group)\n",
    "    print(j)"
   ]
  },
  {
   "cell_type": "code",
   "execution_count": null,
   "metadata": {},
   "outputs": [],
   "source": [
    "# disired trajectory\n",
    "theta = np.linspace(0, 2*np.pi, 1000)\n",
    "\n",
    "x0, y0, z0 = ct_robot._ik_tip.get_position()\n",
    "\n",
    "xd = 0.01*np.cos(theta) + x0\n",
    "yd = 0.01*np.sin(theta) + y0\n",
    "zd = 0 + z0\n",
    "\n",
    "\n",
    "for i in range(1000):\n",
    "    IK_via_vrep(ct_robot, [xd[i], yd[i], zd[i]], [0,0,0], pr, 0.01)\n",
    "    jt_pos = ct_robot.get_joint_positions()\n",
    "    \n",
    "    \n",
    "# Fake measurement\n",
    "noise = np.random.normal(0, 0.02, (1,3))\n",
    "xm = xd + noise[0]\n",
    "ym = yd + noise[1]\n",
    "zm = zd + noise[2]\n",
    "\n",
    "ct_robot._ik_tip.g"
   ]
  }
 ],
 "metadata": {
  "kernelspec": {
   "display_name": "Python 3",
   "language": "python",
   "name": "python3"
  },
  "language_info": {
   "codemirror_mode": {
    "name": "ipython",
    "version": 3
   },
   "file_extension": ".py",
   "mimetype": "text/x-python",
   "name": "python",
   "nbconvert_exporter": "python",
   "pygments_lexer": "ipython3",
   "version": "3.6.8"
  }
 },
 "nbformat": 4,
 "nbformat_minor": 2
}
