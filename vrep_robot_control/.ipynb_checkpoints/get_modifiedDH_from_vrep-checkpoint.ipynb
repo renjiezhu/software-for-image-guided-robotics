{
 "cells": [
  {
   "cell_type": "code",
   "execution_count": 1,
   "metadata": {},
   "outputs": [],
   "source": [
    "import numpy as np\n",
    "from pyrep import PyRep\n",
    "from arm import CtRobot\n",
    "from my_rigid_kinematics import dh_robot_config\n",
    "import sympy as sp\n",
    "import os\n",
    "import transforms3d as t3d\n",
    "from pyrep.backend import vrep\n",
    "\n",
    "pi = np.pi"
   ]
  },
  {
   "cell_type": "code",
   "execution_count": 2,
   "metadata": {},
   "outputs": [],
   "source": [
    "pr = PyRep()\n",
    "pr.launch(os.getcwd() + '/Modified_DH.ttt', headless=True)"
   ]
  },
  {
   "cell_type": "code",
   "execution_count": 3,
   "metadata": {},
   "outputs": [],
   "source": [
    "pr.start()\n",
    "ct_robot = CtRobot()"
   ]
  },
  {
   "cell_type": "markdown",
   "metadata": {},
   "source": [
    "## My calibration (based on vrep 'reference_frame')"
   ]
  },
  {
   "cell_type": "code",
   "execution_count": 4,
   "metadata": {},
   "outputs": [],
   "source": [
    "# Grab modified DH parameters from V-REP using the dummy 'DH_frame'\n",
    "# Need to set up their orientation following modified DH convention\n",
    "D = []\n",
    "theta = []\n",
    "alpha = []\n",
    "a = []\n",
    "L = []\n",
    "jointType = ['p', 'p', 'r', 'r', 'r', 'r', 'p']\n",
    "for i in range(ct_robot._num_joints):\n",
    "    j = i+1\n",
    "    tmp_alpha = ct_robot.DH_frames[i+1].get_orientation(relative_to=ct_robot.DH_frames[i])\n",
    "    tmp_a = ct_robot.DH_frames[i+1].get_position(relative_to=ct_robot.DH_frames[i])\n",
    "    if tmp_alpha[0] < -1e-5 or tmp_alpha[0] > 1e-5:\n",
    "        alpha.append(tmp_alpha[0])\n",
    "    else:\n",
    "        alpha.append(0)\n",
    "    a.append(tmp_a[0])\n",
    "    \n",
    "    tmp_d = -ct_robot.DH_frames[j-1].get_position(relative_to=ct_robot.DH_frames[j])[2]\n",
    "    tmp_theta = -ct_robot.DH_frames[j-1].get_orientation(relative_to=ct_robot.DH_frames[j])[2]\n",
    "    if tmp_theta < -1e-5 or tmp_theta > 1e-5:\n",
    "        theta.append(tmp_theta)\n",
    "    else:\n",
    "        theta.append(0)   \n",
    "    D.append(tmp_d)\n",
    "# Center of mass of link with respect to each joint    \n",
    "for i in range(ct_robot._num_joints+1):\n",
    "    L.append(ct_robot.COMs[i].get_position(relative_to=ct_robot.DH_frames[i]))\n",
    "L = np.array(L)\n",
    "\n",
    "Tbase = np.concatenate((np.array(ct_robot.DH_frames[0].get_matrix()).reshape(3,4), np.array([[0,0,0,1]])))\n",
    "\n",
    "num_joints = ct_robot._num_joints"
   ]
  },
  {
   "cell_type": "code",
   "execution_count": 5,
   "metadata": {},
   "outputs": [],
   "source": [
    "M = np.array([\n",
    "    [5.539, 5.539, 5.539, 2.152e-2, 7.838e-3, 2.866e-2],\n",
    "    [6.938e-1, 6.938e-1, 6.938e-1, 9.52e-3, 2.751e-2, 3.603e-2],\n",
    "    [1.196, 1.196, 1.196, 2.411e-2, 9.92e-2, 1.164e-2],\n",
    "    [4.147, 4.147, 4.147, 4.954e-2, 1.441e-1, 1.814e-2],\n",
    "    [3.298e-2, 3.298e-2, 3.298e-2, 3.752e-1, 2.050e-4, 3.75e-1],\n",
    "    [2.375e-2, 2.375e-2, 2.375e-2, 4.592e-2, 1.718e-4, 4.591e-1],\n",
    "    [3.226e-2, 3.226e-2, 3.226e-2, 5.793e-1, 0, 5.771e-1],\n",
    "    [1.491e-2, 1.491e-2, 1.491e-2, 6.070e-1, 1.831e-4, 6.058e-1]\n",
    "])"
   ]
  },
  {
   "cell_type": "code",
   "execution_count": null,
   "metadata": {},
   "outputs": [],
   "source": [
    "robot = dh_robot_config(num_joints, alpha, theta, D, a, jointType, Tbase, L, M)"
   ]
  },
  {
   "cell_type": "code",
   "execution_count": null,
   "metadata": {},
   "outputs": [],
   "source": [
    "robot.initKinematicTransforms()"
   ]
  },
  {
   "cell_type": "markdown",
   "metadata": {},
   "source": [
    "## V-REP"
   ]
  },
  {
   "cell_type": "code",
   "execution_count": null,
   "metadata": {},
   "outputs": [],
   "source": [
    "for i in range(7):\n",
    "    print('---------------------------')\n",
    "    print('Joint {}'.format(i+1))\n",
    "    print('D: {}, theta: {}, a[i-1]: {}, alpha[i-1]: {}'.format(D[i],theta[i],a[i],alpha[i]))"
   ]
  },
  {
   "cell_type": "code",
   "execution_count": null,
   "metadata": {},
   "outputs": [],
   "source": [
    "for i in range(7):\n",
    "    T = np.eye(4)\n",
    "    T[:3, :] = np.array(ct_robot.DH_frames[i+1].get_matrix()). \\\n",
    "    reshape(3,4)\n",
    "    print(T)"
   ]
  },
  {
   "cell_type": "markdown",
   "metadata": {},
   "source": [
    "## DH-FK"
   ]
  },
  {
   "cell_type": "code",
   "execution_count": null,
   "metadata": {},
   "outputs": [],
   "source": [
    "# set_jot_pos = [0.01, 0.02, 0.4, 0.5, 0, 0.3, 0.05]\n",
    "set_jot_pos = [0.0, 0.0, 0.0, 0.0, 0, 0.0, 0.0]\n",
    "ct_robot.set_joint_positions(set_jot_pos)"
   ]
  },
  {
   "cell_type": "code",
   "execution_count": null,
   "metadata": {},
   "outputs": [],
   "source": [
    "joint_pos = [ct_robot.joints[i].get_joint_position() for i in range(ct_robot._num_joints)]\n",
    "print('Joint position is', joint_pos)\n",
    "print('Tip position is', ct_robot._ik_tip.get_position())\n",
    "print('Tip orientation is', ct_robot._ik_tip.get_orientation())"
   ]
  },
  {
   "cell_type": "code",
   "execution_count": null,
   "metadata": {},
   "outputs": [],
   "source": [
    "for i in range(7):\n",
    "    \n",
    "    #vrep\n",
    "    T = np.eye(4)\n",
    "    T[:3, :] = np.array(ct_robot.DH_frames[i+1].get_matrix(ct_robot.DH_frames[i])). \\\n",
    "    reshape(3,4)\n",
    "    \n",
    "    # FK\n",
    "    Tp = sp.lambdify(robot.q, robot._Tj2j[i])(*tuple(joint_pos))\n",
    "    print('diff:', np.linalg.norm(Tp - T))\n",
    "    if np.linalg.norm(Tp - T) > 1e-4:\n",
    "        print('Wrong match of joint %d'%(i+1))\n",
    "        print('getting from V-REP')\n",
    "        print(T)\n",
    "        print('----------------------------------')\n",
    "        print('getting from FK')\n",
    "        print(Tp)\n",
    "        print('----------------------------------')"
   ]
  },
  {
   "cell_type": "code",
   "execution_count": null,
   "metadata": {
    "scrolled": true
   },
   "outputs": [],
   "source": [
    "T_j7 = sp.lambdify(robot.q, robot._Tjoint[6])(*tuple(joint_pos))\n",
    "pos_j7 = T_j7[:3, 3]\n",
    "R_j7 = T_j7[:3, :3]\n",
    "ori_j7 = t3d.euler.mat2euler(R_j7, 'sxyz')\n",
    "print('Tip position is', pos_j7)\n",
    "print('Tip orientation is', ori_j7)"
   ]
  },
  {
   "cell_type": "markdown",
   "metadata": {},
   "source": [
    "## Save"
   ]
  },
  {
   "cell_type": "code",
   "execution_count": 6,
   "metadata": {},
   "outputs": [],
   "source": [
    "param = ['D', 'a', 'alpha', 'theta', 'num_joints', 'jointType', 'Tbase', 'L', 'M']\n",
    "for i in range(len(param)):\n",
    "    np.save('./robot_config/config1/%s'%param[i], eval(param[i]))"
   ]
  },
  {
   "cell_type": "code",
   "execution_count": 7,
   "metadata": {},
   "outputs": [],
   "source": [
    "pr.shutdown()\n"
   ]
  }
 ],
 "metadata": {
  "kernelspec": {
   "display_name": "Python 3",
   "language": "python",
   "name": "python3"
  },
  "language_info": {
   "codemirror_mode": {
    "name": "ipython",
    "version": 3
   },
   "file_extension": ".py",
   "mimetype": "text/x-python",
   "name": "python",
   "nbconvert_exporter": "python",
   "pygments_lexer": "ipython3",
   "version": "3.6.8"
  }
 },
 "nbformat": 4,
 "nbformat_minor": 2
}
