{
 "cells": [
  {
   "cell_type": "code",
   "execution_count": 1,
   "metadata": {},
   "outputs": [],
   "source": [
    "import numpy as np\n",
    "from pyrep import PyRep\n",
    "from arm import CtRobot\n",
    "from my_rigid_kinematics import dh_robot_config\n",
    "import sympy as sp\n",
    "import os\n",
    "import transforms3d as t3d\n",
    "from pyrep.backend import vrep\n",
    "\n",
    "pi = np.pi"
   ]
  },
  {
   "cell_type": "code",
   "execution_count": 2,
   "metadata": {},
   "outputs": [],
   "source": [
    "pr = PyRep()\n",
    "pr.launch(os.getcwd() + '/Robot_config.ttt', headless=True)"
   ]
  },
  {
   "cell_type": "code",
   "execution_count": 3,
   "metadata": {},
   "outputs": [],
   "source": [
    "pr.start()\n",
    "ct_robot = CtRobot()"
   ]
  },
  {
   "cell_type": "markdown",
   "metadata": {},
   "source": [
    "## My calibration (based on vrep 'reference_frame')"
   ]
  },
  {
   "cell_type": "code",
   "execution_count": 4,
   "metadata": {},
   "outputs": [],
   "source": [
    "D = []\n",
    "theta = []\n",
    "alpha = []\n",
    "a = []\n",
    "jointType = ['p', 'p', 'r', 'r', 'r', 'r', 'p']\n",
    "for i in range(ct_robot._num_joints):\n",
    "    tmp = ct_robot.DH_frames[i+1].get_orientation(relative_to=ct_robot.DH_frames[i])\n",
    "    if tmp[0] < -1e-6 or tmp[0] > 1e-6:\n",
    "        alpha.append(tmp[0])\n",
    "    else:\n",
    "        alpha.append(0)\n",
    "    if tmp[2] < -1e-6 or tmp[2] > 1e-6:\n",
    "        theta.append(tmp[2])\n",
    "    else:\n",
    "        theta.append(0)\n",
    "    D.append(ct_robot.DH_frames[i+1].get_position(relative_to=ct_robot.DH_frames[i])[2])\n",
    "    a.append(-ct_robot.DH_frames[i].get_position(relative_to=ct_robot.DH_frames[i+1])[0])\n",
    "\n",
    "ai, aj, ak = ct_robot.DH_frames[0].get_orientation()\n",
    "num_joints = ct_robot._num_joints"
   ]
  },
  {
   "cell_type": "code",
   "execution_count": 5,
   "metadata": {},
   "outputs": [
    {
     "data": {
      "text/plain": [
       "(-1.5707963705062866, 3.2782554626464844e-07, -1.5707961320877075)"
      ]
     },
     "execution_count": 5,
     "metadata": {},
     "output_type": "execute_result"
    }
   ],
   "source": [
    "ai, aj, ak"
   ]
  },
  {
   "cell_type": "code",
   "execution_count": null,
   "metadata": {},
   "outputs": [],
   "source": [
    "robot = dh_robot_config(num_joints, alpha, theta, D, a, jointType, ai, aj, ak)"
   ]
  },
  {
   "cell_type": "code",
   "execution_count": 6,
   "metadata": {},
   "outputs": [
    {
     "data": {
      "text/plain": [
       "[-0.02750001847743988,\n",
       " 0.13150005042552948,\n",
       " -0.14101684093475342,\n",
       " 0.42099323868751526,\n",
       " -2.518296241760254e-06,\n",
       " 1.6689300537109375e-06,\n",
       " -0.0010431110858917236]"
      ]
     },
     "execution_count": 6,
     "metadata": {},
     "output_type": "execute_result"
    }
   ],
   "source": [
    "D"
   ]
  },
  {
   "cell_type": "code",
   "execution_count": 7,
   "metadata": {},
   "outputs": [
    {
     "data": {
      "text/plain": [
       "[0.0364999957382679,\n",
       " 0.02199186384677887,\n",
       " 0.14034345746040344,\n",
       " 0.4209931492805481,\n",
       " 0.07999998331069946,\n",
       " -0.05656987428665161,\n",
       " -0.022850394248962402]"
      ]
     },
     "execution_count": 7,
     "metadata": {},
     "output_type": "execute_result"
    }
   ],
   "source": [
    "a"
   ]
  },
  {
   "cell_type": "code",
   "execution_count": 8,
   "metadata": {},
   "outputs": [
    {
     "data": {
      "text/plain": [
       "[0, 0, 0, 1.5708115100860596, 0, -2.356194496154785, 0]"
      ]
     },
     "execution_count": 8,
     "metadata": {},
     "output_type": "execute_result"
    }
   ],
   "source": [
    "theta"
   ]
  },
  {
   "cell_type": "code",
   "execution_count": 9,
   "metadata": {},
   "outputs": [
    {
     "data": {
      "text/plain": [
       "[1.5707963705062866,\n",
       " -1.5707961320877075,\n",
       " 3.1415927410125732,\n",
       " 1.5708012580871582,\n",
       " 1.5708028078079224,\n",
       " 1.5708162784576416,\n",
       " -1.5707961320877075]"
      ]
     },
     "execution_count": 9,
     "metadata": {},
     "output_type": "execute_result"
    }
   ],
   "source": [
    "alpha"
   ]
  },
  {
   "cell_type": "code",
   "execution_count": 10,
   "metadata": {},
   "outputs": [
    {
     "name": "stdout",
     "output_type": "stream",
     "text": [
      "[0.015830010175704956, -1.043081283569336e-07, -0.014530003070831299]\n",
      "[0.015900183469057083, -0.03887007385492325, 0.1502796709537506]\n",
      "[0.03696827590465546, 0.004390344023704529, -0.029299840331077576]\n",
      "[-0.02920520305633545, -0.00023987889289855957, -0.06913706660270691]\n",
      "[0.01858973503112793, -0.0024669766426086426, 0.00021503865718841553]\n",
      "[0.007149636745452881, 0.00012712508032564074, 0.0025669336318969727]\n",
      "[-0.002970755100250244, 0.042661815881729126, -0.0016787350177764893]\n",
      "[0.019230961799621582, 0.0008832812309265137, 0.0022380948066711426]\n"
     ]
    }
   ],
   "source": [
    "for i in range(8):\n",
    "    x = ct_robot.COMs[i].get_position(relative_to=ct_robot.DH_frames[i])\n",
    "    print(x)"
   ]
  },
  {
   "cell_type": "code",
   "execution_count": null,
   "metadata": {},
   "outputs": [],
   "source": [
    "# Recalibrate Transformation matrix to be unique with respect to VREP\n",
    "for i in range(robot.num_joints):\n",
    "    pos = ct_robot.DH_frames[i+1].get_position(relative_to=ct_robot.DH_frames[i])\n",
    "    if robot.jointType[i] == 'p':\n",
    "        if i == 6:\n",
    "            pos[1] = pos[1] + robot.q[i]\n",
    "        else:\n",
    "            pos[2] = pos[2] + robot.q[i]\n",
    "    robot._Tjoint[i][:3, 3] = pos"
   ]
  },
  {
   "cell_type": "code",
   "execution_count": null,
   "metadata": {},
   "outputs": [],
   "source": [
    "robot.initKinematicTransforms()"
   ]
  },
  {
   "cell_type": "markdown",
   "metadata": {},
   "source": [
    "## V-REP"
   ]
  },
  {
   "cell_type": "code",
   "execution_count": null,
   "metadata": {},
   "outputs": [],
   "source": [
    "set_jot_pos = [0.01, 0.02, 0.4, 0.5, 0, 0.3, 0.05]\n",
    "ct_robot.set_joint_positions(set_jot_pos)"
   ]
  },
  {
   "cell_type": "code",
   "execution_count": null,
   "metadata": {},
   "outputs": [],
   "source": [
    "joint_pos = [ct_robot.joints[i].get_joint_position() for i in range(ct_robot._num_joints)]\n",
    "print('Joint position is', joint_pos)\n",
    "print('Tip position is', ct_robot._ik_tip.get_position())\n",
    "print('Tip orientation is', ct_robot._ik_tip.get_orientation())"
   ]
  },
  {
   "cell_type": "code",
   "execution_count": null,
   "metadata": {},
   "outputs": [],
   "source": [
    "for i in range(7):\n",
    "    T = np.eye(4)\n",
    "    # Filtering \n",
    "    ori = np.array(ct_robot.DH_frames[i+1].get_orientation(ct_robot.DH_frames[i]))\n",
    "    for j in range(3):\n",
    "        if tmp[2] > -1e-6 and tmp[2] < 1e-6:\n",
    "            ori[j] == 0\n",
    "    Rt = t3d.euler.euler2mat(*tuple(ori.tolist()), 'rxyz')\n",
    "    T[:3, :3] = Rt\n",
    "    T[:3, 3] = ct_robot.DH_frames[i+1].get_position(ct_robot.DH_frames[i])\n",
    "    Tp = sp.lambdify(robot.q, robot._Tjoint[i])(*tuple(joint_pos))\n",
    "    print('diff:', np.linalg.norm(Tp - T))"
   ]
  },
  {
   "cell_type": "markdown",
   "metadata": {},
   "source": [
    "## DH-FK"
   ]
  },
  {
   "cell_type": "code",
   "execution_count": null,
   "metadata": {
    "scrolled": true
   },
   "outputs": [],
   "source": [
    "T_j7 = sp.lambdify(robot.q, robot._T[6])(*tuple(joint_pos))\n",
    "pos_j7 = T_j7[:3, 3]\n",
    "R_j7 = T_j7[:3, :3]\n",
    "ori_j7 = t3d.euler.mat2euler(R_j7, 'rxyz')\n",
    "print('Tip position is', pos_j7)\n",
    "print('Tip orientation is', ori_j7)"
   ]
  },
  {
   "cell_type": "code",
   "execution_count": null,
   "metadata": {},
   "outputs": [],
   "source": [
    "len(robot._T)"
   ]
  },
  {
   "cell_type": "markdown",
   "metadata": {},
   "source": [
    "## Compare"
   ]
  },
  {
   "cell_type": "code",
   "execution_count": null,
   "metadata": {},
   "outputs": [],
   "source": [
    "for i in range(ct_robot._num_joints):\n",
    "    "
   ]
  },
  {
   "cell_type": "code",
   "execution_count": null,
   "metadata": {},
   "outputs": [],
   "source": [
    "pr.shutdown()\n"
   ]
  }
 ],
 "metadata": {
  "kernelspec": {
   "display_name": "Python 3",
   "language": "python",
   "name": "python3"
  },
  "language_info": {
   "codemirror_mode": {
    "name": "ipython",
    "version": 3
   },
   "file_extension": ".py",
   "mimetype": "text/x-python",
   "name": "python",
   "nbconvert_exporter": "python",
   "pygments_lexer": "ipython3",
   "version": "3.6.8"
  }
 },
 "nbformat": 4,
 "nbformat_minor": 2
}
