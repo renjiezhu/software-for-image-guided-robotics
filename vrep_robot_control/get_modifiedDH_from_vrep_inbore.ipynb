{
 "cells": [
  {
   "cell_type": "code",
   "execution_count": 1,
   "metadata": {},
   "outputs": [],
   "source": [
    "import numpy as np\n",
    "from pyrep import PyRep\n",
    "from arm import CtRobot\n",
    "from DH_dynamics import dh_robot_config\n",
    "import sympy as sp\n",
    "import os\n",
    "import transforms3d as t3d\n",
    "from pyrep.backend import vrep\n",
    "\n",
    "pi = np.pi"
   ]
  },
  {
   "cell_type": "code",
   "execution_count": 2,
   "metadata": {},
   "outputs": [],
   "source": [
    "pr = PyRep()\n",
    "pr.launch(os.getcwd() + '/in-bore.ttt', headless=True)"
   ]
  },
  {
   "cell_type": "code",
   "execution_count": 3,
   "metadata": {},
   "outputs": [],
   "source": [
    "pr.start()\n",
    "ct_robot = CtRobot(name='inbore_arm', num_joints=4, joint_type=['r','r','r','p'])"
   ]
  },
  {
   "cell_type": "markdown",
   "metadata": {},
   "source": [
    "## My calibration (based on vrep 'reference_frame')"
   ]
  },
  {
   "cell_type": "code",
   "execution_count": 4,
   "metadata": {},
   "outputs": [],
   "source": [
    "# Grab modified DH parameters from V-REP using the dummy 'DH_frame'\n",
    "# Need to set up their orientation following modified DH convention\n",
    "D = []\n",
    "theta = []\n",
    "alpha = []\n",
    "a = []\n",
    "L = []\n",
    "\n",
    "jointType=['r','r','r','p']\n",
    "for i in range(ct_robot._num_joints):\n",
    "    j = i+1\n",
    "    tmp_alpha = ct_robot.DH_frames[i+1].get_orientation(relative_to=ct_robot.DH_frames[i])\n",
    "    tmp_a = ct_robot.DH_frames[i+1].get_position(relative_to=ct_robot.DH_frames[i])\n",
    "    if tmp_alpha[0] < -1e-5 or tmp_alpha[0] > 1e-5:\n",
    "        alpha.append(tmp_alpha[0])\n",
    "    else:\n",
    "        alpha.append(0)\n",
    "    a.append(tmp_a[0])\n",
    "    \n",
    "    tmp_d = -ct_robot.DH_frames[j-1].get_position(relative_to=ct_robot.DH_frames[j])[2]\n",
    "    tmp_theta = -ct_robot.DH_frames[j-1].get_orientation(relative_to=ct_robot.DH_frames[j])[2]\n",
    "    if tmp_theta < -1e-5 or tmp_theta > 1e-5:\n",
    "        theta.append(tmp_theta)\n",
    "    else:\n",
    "        theta.append(0)   \n",
    "    D.append(tmp_d)\n",
    "# Center of mass of link with respect to each joint    \n",
    "for i in range(ct_robot._num_joints+1):\n",
    "    L.append(ct_robot.COMs[i].get_position(relative_to=ct_robot.DH_frames[i]))\n",
    "L = np.array(L)\n",
    "\n",
    "Tbase = np.concatenate((np.array(ct_robot.DH_frames[0].get_matrix()).reshape(3,4), np.array([[0,0,0,1]])))\n",
    "\n",
    "num_joints = ct_robot._num_joints"
   ]
  },
  {
   "cell_type": "code",
   "execution_count": 5,
   "metadata": {},
   "outputs": [],
   "source": [
    "M = np.array([\n",
    "        [0.1562, 0.1562, 0.1562, 3.324e-4, 1.484e-1, 1.484e-1],\n",
    "        [3.126e-2, 3.126e-2, 3.126e-2, 1.470e-4, 4.065e-1, 4.064-1],\n",
    "        [2.228e-2, 2.228e-2, 2.228e-2, 1.109e-4, 4.983e-1, 4.984e-1],\n",
    "        [2.457e-2, 2.457e-2, 2.457e-2, 8.041e-4, 6.199e-1, 6.192e-1],\n",
    "        [6.63e-3, 6.63e-3, 6.63e-3, 7.283e-5, 6.231e-1, 6.231e-1]\n",
    "])"
   ]
  },
  {
   "cell_type": "code",
   "execution_count": 6,
   "metadata": {},
   "outputs": [],
   "source": [
    "robot = dh_robot_config(num_joints, alpha, theta, D, a, jointType, Tbase, L, M)"
   ]
  },
  {
   "cell_type": "code",
   "execution_count": 7,
   "metadata": {},
   "outputs": [
    {
     "name": "stdout",
     "output_type": "stream",
     "text": [
      "Calculating link 0\n",
      "Calculating link 1\n",
      "Calculating link 2\n",
      "Calculating link 3\n",
      "Calculating link 4\n",
      "Calculating Mass and Gravity Matrix...\n",
      "-------------------------------------------------------------------\n",
      "Calculation complete\n"
     ]
    }
   ],
   "source": [
    "robot.initKinematicTransforms()"
   ]
  },
  {
   "cell_type": "markdown",
   "metadata": {},
   "source": [
    "## V-REP"
   ]
  },
  {
   "cell_type": "code",
   "execution_count": 8,
   "metadata": {},
   "outputs": [
    {
     "name": "stdout",
     "output_type": "stream",
     "text": [
      "---------------------------\n",
      "Joint 1\n",
      "D: 7.450580596923828e-08, theta: 1.570796251296997, a[i-1]: -5.960464477539063e-08, alpha[i-1]: 1.5708017349243164\n",
      "---------------------------\n",
      "Joint 2\n",
      "D: 4.500150680541992e-06, theta: -1.5324003470595926e-05, a[i-1]: 0.06996411085128784, alpha[i-1]: 1.5707961320877075\n",
      "---------------------------\n",
      "Joint 3\n",
      "D: -2.246815711259842e-08, theta: -1.570796251296997, a[i-1]: 0.06981068849563599, alpha[i-1]: 1.5707964897155762\n",
      "---------------------------\n",
      "Joint 4\n",
      "D: 0.047888100147247314, theta: -2.19163757719798e-05, a[i-1]: 2.205371856689453e-06, alpha[i-1]: -1.570800542831421\n"
     ]
    }
   ],
   "source": [
    "for i in range(num_joints):\n",
    "    print('---------------------------')\n",
    "    print('Joint {}'.format(i+1))\n",
    "    print('D: {}, theta: {}, a[i-1]: {}, alpha[i-1]: {}'.format(D[i],theta[i],a[i],alpha[i]))"
   ]
  },
  {
   "cell_type": "markdown",
   "metadata": {},
   "source": [
    "## DH-FK"
   ]
  },
  {
   "cell_type": "code",
   "execution_count": 9,
   "metadata": {},
   "outputs": [],
   "source": [
    "set_jot_pos = [0.1, 0.2, -0.2,0]\n",
    "ct_robot.set_joint_positions(set_jot_pos)"
   ]
  },
  {
   "cell_type": "code",
   "execution_count": 10,
   "metadata": {},
   "outputs": [
    {
     "name": "stdout",
     "output_type": "stream",
     "text": [
      "Joint position is [0.10000000149011612, 0.20000000298023224, -0.20000000298023224, 0.0]\n",
      "End-joint position is [0.022745875641703606, -0.7929102182388306, 0.3352990448474884]\n",
      "End-joint orientation is [-2.8454768657684326, -0.039479054510593414, -0.19611364603042603]\n"
     ]
    }
   ],
   "source": [
    "joint_pos = [ct_robot.joints[i].get_joint_position() for i in range(ct_robot._num_joints)]\n",
    "print('Joint position is', joint_pos)\n",
    "print('End-joint position is', ct_robot._ik_tip.get_position())\n",
    "print('End-joint orientation is', ct_robot._ik_tip.get_orientation())"
   ]
  },
  {
   "cell_type": "code",
   "execution_count": 11,
   "metadata": {},
   "outputs": [
    {
     "name": "stdout",
     "output_type": "stream",
     "text": [
      "Joint 1: diff: 2.154409313600187e-05\n",
      "Joint 2: diff: 7.863339088194807e-05\n",
      "Joint 3: diff: 0.00038716847900554765\n",
      "Joint 4: diff: 5.137486143653346e-05\n"
     ]
    }
   ],
   "source": [
    "err_j2j = 0\n",
    "\n",
    "for i in range(num_joints):\n",
    "    #vrep\n",
    "    T = np.eye(4)\n",
    "    T[:3, :] = np.array(ct_robot.DH_frames[i+1].get_matrix(ct_robot.DH_frames[i])).reshape(3,4)\n",
    "    \n",
    "    # FK\n",
    "    Tp = sp.lambdify(robot.q, robot._Tj2j[i])(*tuple(joint_pos))\n",
    "    print('Joint %d: diff:'%(i+1), np.linalg.norm(Tp - T))\n",
    "    if np.linalg.norm(Tp - T) > 1e-3:\n",
    "        err_j2j += 1\n",
    "        print('Wrong match of joint %d'%(i+1))\n",
    "        print('getting from V-REP')\n",
    "        print(T)\n",
    "        print('----------------------------------')\n",
    "        print('getting from FK')\n",
    "        print(Tp)\n",
    "        print('----------------------------------')\n"
   ]
  },
  {
   "cell_type": "code",
   "execution_count": 12,
   "metadata": {
    "scrolled": true
   },
   "outputs": [
    {
     "name": "stdout",
     "output_type": "stream",
     "text": [
      "Joint 1: diff: 2.1683712552700328e-05\n",
      "Joint 2: diff: 7.514882554897797e-05\n",
      "Joint 3: diff: 0.0004611840904792975\n",
      "Joint 4: diff: 0.00046373477327257357\n"
     ]
    }
   ],
   "source": [
    "err_j2b = 0\n",
    "for i in range(num_joints):\n",
    "    #vrep\n",
    "    T = np.eye(4)\n",
    "    T[:3, :] = np.array(ct_robot.DH_frames[i+1].get_matrix()).reshape(3,4)\n",
    "    \n",
    "    # FK\n",
    "    Tp = sp.lambdify(robot.q, robot._Tjoint[i])(*tuple(joint_pos))\n",
    "    print('Joint %d: diff:'%(i+1), np.linalg.norm(Tp - T))\n",
    "    if np.linalg.norm(Tp - T) > 1e-3:\n",
    "        err_j2b += 1\n",
    "        print('Wrong match of joint %d'%(i+1))\n",
    "        print('getting from V-REP')\n",
    "        print(T)\n",
    "        print('----------------------------------')\n",
    "        print('getting from FK')\n",
    "        print(Tp)\n",
    "        print('----------------------------------')"
   ]
  },
  {
   "cell_type": "markdown",
   "metadata": {},
   "source": [
    "## Save"
   ]
  },
  {
   "cell_type": "code",
   "execution_count": 13,
   "metadata": {},
   "outputs": [
    {
     "name": "stdout",
     "output_type": "stream",
     "text": [
      "Check FK library with V-REP correct\n",
      "--------------------------------------------------\n",
      "Writing DH parameters, Mass and COM information into file\n",
      "--------------------------------------------------\n",
      "Writing complete\n"
     ]
    }
   ],
   "source": [
    "param = ['D', 'a', 'alpha', 'theta', 'num_joints', 'jointType', 'Tbase', 'L', 'M']\n",
    "if err_j2b == 0 and err_j2j == 0:\n",
    "    print('Check FK library with V-REP correct')\n",
    "    print('--------------------------------------------------')\n",
    "    print('Writing DH parameters, Mass and COM information into file')\n",
    "    for i in range(len(param)):\n",
    "        np.save('./robot_config/inbore_config/%s'%param[i], eval(param[i]))\n",
    "    print('--------------------------------------------------')\n",
    "    print('Writing complete')\n",
    "else:\n",
    "    print('Please check DH convention with V-REP')"
   ]
  },
  {
   "cell_type": "code",
   "execution_count": 14,
   "metadata": {},
   "outputs": [],
   "source": [
    "pr.stop()\n",
    "pr.shutdown()"
   ]
  }
 ],
 "metadata": {
  "kernelspec": {
   "display_name": "Python 3",
   "language": "python",
   "name": "python3"
  },
  "language_info": {
   "codemirror_mode": {
    "name": "ipython",
    "version": 3
   },
   "file_extension": ".py",
   "mimetype": "text/x-python",
   "name": "python",
   "nbconvert_exporter": "python",
   "pygments_lexer": "ipython3",
   "version": "3.6.8"
  }
 },
 "nbformat": 4,
 "nbformat_minor": 2
}
