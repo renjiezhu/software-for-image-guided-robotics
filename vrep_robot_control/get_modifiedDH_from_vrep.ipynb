{
 "cells": [
  {
   "cell_type": "code",
   "execution_count": 1,
   "metadata": {},
   "outputs": [],
   "source": [
    "import numpy as np\n",
    "from pyrep import PyRep\n",
    "from arm import CtRobot\n",
    "from my_rigid_kinematics import dh_robot_config\n",
    "import sympy as sp\n",
    "import os\n",
    "import transforms3d as t3d\n",
    "from pyrep.backend import vrep\n",
    "\n",
    "pi = np.pi"
   ]
  },
  {
   "cell_type": "code",
   "execution_count": 2,
   "metadata": {},
   "outputs": [],
   "source": [
    "pr = PyRep()\n",
    "pr.launch(os.getcwd() + '/Temp.ttt', headless=True)"
   ]
  },
  {
   "cell_type": "code",
   "execution_count": 3,
   "metadata": {},
   "outputs": [],
   "source": [
    "pr.start()\n",
    "ct_robot = CtRobot()"
   ]
  },
  {
   "cell_type": "markdown",
   "metadata": {},
   "source": [
    "## My calibration (based on vrep 'reference_frame')"
   ]
  },
  {
   "cell_type": "code",
   "execution_count": 4,
   "metadata": {},
   "outputs": [],
   "source": [
    "# Grab modified DH parameters from V-REP using the dummy 'DH_frame'\n",
    "# Need to set up their orientation following modified DH convention\n",
    "D = []\n",
    "theta = []\n",
    "alpha = []\n",
    "a = []\n",
    "L = []\n",
    "jointType = ['p', 'p', 'r', 'r', 'r', 'r', 'p']\n",
    "for i in range(ct_robot._num_joints):\n",
    "    j = i+1\n",
    "    tmp_alpha = ct_robot.DH_frames[i+1].get_orientation(relative_to=ct_robot.DH_frames[i])\n",
    "    tmp_a = ct_robot.DH_frames[i+1].get_position(relative_to=ct_robot.DH_frames[i])\n",
    "    if tmp_alpha[0] < -1e-5 or tmp_alpha[0] > 1e-5:\n",
    "        alpha.append(tmp_alpha[0])\n",
    "    else:\n",
    "        alpha.append(0)\n",
    "    a.append(tmp_a[0])\n",
    "    \n",
    "    tmp_d = -ct_robot.DH_frames[j-1].get_position(relative_to=ct_robot.DH_frames[j])[2]\n",
    "    tmp_theta = -ct_robot.DH_frames[j-1].get_orientation(relative_to=ct_robot.DH_frames[j])[2]\n",
    "    if tmp_theta < -1e-5 or tmp_theta > 1e-5:\n",
    "        theta.append(tmp_theta)\n",
    "    else:\n",
    "        theta.append(0)   \n",
    "    D.append(tmp_d)\n",
    "# Center of mass of link with respect to each joint    \n",
    "for i in range(ct_robot._num_joints+1):\n",
    "    L.append(ct_robot.COMs[i].get_position(relative_to=ct_robot.DH_frames[i]))\n",
    "L = np.array(L)\n",
    "\n",
    "Tbase = np.concatenate((np.array(ct_robot.DH_frames[0].get_matrix()).reshape(3,4), np.array([[0,0,0,1]])))\n",
    "\n",
    "num_joints = ct_robot._num_joints"
   ]
  },
  {
   "cell_type": "code",
   "execution_count": 5,
   "metadata": {},
   "outputs": [],
   "source": [
    "M = np.array([\n",
    "    [5.539, 5.539, 5.539, 2.152e-2, 7.838e-3, 2.866e-2],\n",
    "    [6.938e-1, 6.938e-1, 6.938e-1, 9.52e-3, 2.751e-2, 3.603e-2],\n",
    "    [1.196, 1.196, 1.196, 2.411e-2, 9.92e-2, 1.164e-2],\n",
    "    [4.147, 4.147, 4.147, 4.954e-2, 1.441e-1, 1.814e-2],\n",
    "    [3.298e-2, 3.298e-2, 3.298e-2, 3.752e-1, 2.050e-4, 3.75e-1],\n",
    "    [2.375e-2, 2.375e-2, 2.375e-2, 4.592e-2, 1.718e-4, 4.591e-1],\n",
    "    [3.226e-2, 3.226e-2, 3.226e-2, 5.793e-1, 0, 5.771e-1],\n",
    "    [1.491e-2, 1.491e-2, 1.491e-2, 6.070e-1, 1.831e-4, 6.058e-1]\n",
    "])"
   ]
  },
  {
   "cell_type": "code",
   "execution_count": 6,
   "metadata": {},
   "outputs": [],
   "source": [
    "robot = dh_robot_config(num_joints, alpha, theta, D, a, jointType, Tbase, L, M)"
   ]
  },
  {
   "cell_type": "code",
   "execution_count": 7,
   "metadata": {},
   "outputs": [],
   "source": [
    "robot.initKinematicTransforms()"
   ]
  },
  {
   "cell_type": "markdown",
   "metadata": {},
   "source": [
    "## V-REP"
   ]
  },
  {
   "cell_type": "code",
   "execution_count": 8,
   "metadata": {},
   "outputs": [
    {
     "name": "stdout",
     "output_type": "stream",
     "text": [
      "---------------------------\n",
      "Joint 1\n",
      "D: -0.0, theta: 0, a[i-1]: 0.0, alpha[i-1]: 0\n",
      "---------------------------\n",
      "Joint 2\n",
      "D: 2.2900366047906573e-09, theta: 0, a[i-1]: 0.05849161744117737, alpha[i-1]: 1.570797085762024\n",
      "---------------------------\n",
      "Joint 3\n",
      "D: 1.7881393432617188e-07, theta: 0, a[i-1]: 0.1404283195734024, alpha[i-1]: -1.5707967281341553\n",
      "---------------------------\n",
      "Joint 4\n",
      "D: -5.424022674560547e-06, theta: 1.5707966089248657, a[i-1]: 3.4868717193603516e-06, alpha[i-1]: 1.5708012580871582\n",
      "---------------------------\n",
      "Joint 5\n",
      "D: 1.6391277313232422e-06, theta: 0, a[i-1]: 0.07999992370605469, alpha[i-1]: 1.5708024501800537\n",
      "---------------------------\n",
      "Joint 6\n",
      "D: 2.364599822612945e-06, theta: -1.5707964897155762, a[i-1]: 0.08000022172927856, alpha[i-1]: 1.5707963705062866\n",
      "---------------------------\n",
      "Joint 7\n",
      "D: 0.03896474838256836, theta: 0, a[i-1]: 2.592802047729492e-06, alpha[i-1]: -1.570796251296997\n"
     ]
    }
   ],
   "source": [
    "for i in range(7):\n",
    "    print('---------------------------')\n",
    "    print('Joint {}'.format(i+1))\n",
    "    print('D: {}, theta: {}, a[i-1]: {}, alpha[i-1]: {}'.format(D[i],theta[i],a[i],alpha[i]))"
   ]
  },
  {
   "cell_type": "markdown",
   "metadata": {},
   "source": [
    "## DH-FK"
   ]
  },
  {
   "cell_type": "code",
   "execution_count": 9,
   "metadata": {},
   "outputs": [],
   "source": [
    "set_jot_pos = [0.01, 0.02, 0.4, 0.5, 0, 0.3, 0.01]\n",
    "#set_jot_pos = [0.0, 0.0, 0.0, 0.0, 0, 0.0, 0.0]\n",
    "ct_robot.set_joint_positions(set_jot_pos)"
   ]
  },
  {
   "cell_type": "code",
   "execution_count": 10,
   "metadata": {},
   "outputs": [
    {
     "name": "stdout",
     "output_type": "stream",
     "text": [
      "Joint position is [0.009999999776482582, 0.019999999552965164, 0.4000000059604645, 0.5, 0.0, 0.30000001192092896, 0.009999999776482582]\n",
      "End-joint position is [0.053613822907209396, -0.7576621174812317, 0.11929528415203094]\n",
      "End-joint orientation is [1.7553976774215698, 0.07745611667633057, -1.17795729637146]\n"
     ]
    }
   ],
   "source": [
    "joint_pos = [ct_robot.joints[i].get_joint_position() for i in range(ct_robot._num_joints)]\n",
    "print('Joint position is', joint_pos)\n",
    "print('End-joint position is', ct_robot._ik_tip.get_position())\n",
    "print('End-joint orientation is', ct_robot._ik_tip.get_orientation())"
   ]
  },
  {
   "cell_type": "code",
   "execution_count": 11,
   "metadata": {},
   "outputs": [
    {
     "name": "stdout",
     "output_type": "stream",
     "text": [
      "Joint 1: diff: 7.181045828562747e-07\n",
      "Joint 2: diff: 3.422938122134113e-07\n",
      "Joint 3: diff: 3.365926665740194e-05\n",
      "Joint 4: diff: 2.982042506762563e-05\n",
      "Joint 5: diff: 9.881946929223715e-06\n",
      "Joint 6: diff: 1.3131684800142961e-05\n",
      "Joint 7: diff: 5.3931767032169406e-06\n"
     ]
    }
   ],
   "source": [
    "err_j2j = 0\n",
    "\n",
    "for i in range(7):\n",
    "    #vrep\n",
    "    T = np.eye(4)\n",
    "    T[:3, :] = np.array(ct_robot.DH_frames[i+1].get_matrix(ct_robot.DH_frames[i])).reshape(3,4)\n",
    "    \n",
    "    # FK\n",
    "    Tp = sp.lambdify(robot.q, robot._Tj2j[i])(*tuple(joint_pos))\n",
    "    print('Joint %d: diff:'%(i+1), np.linalg.norm(Tp - T))\n",
    "    if np.linalg.norm(Tp - T) > 1e-4:\n",
    "        err_j2j += 1\n",
    "        print('Wrong match of joint %d'%(i+1))\n",
    "        print('getting from V-REP')\n",
    "        print(T)\n",
    "        print('----------------------------------')\n",
    "        print('getting from FK')\n",
    "        print(Tp)\n",
    "        print('----------------------------------')\n"
   ]
  },
  {
   "cell_type": "code",
   "execution_count": 12,
   "metadata": {
    "scrolled": true
   },
   "outputs": [
    {
     "name": "stdout",
     "output_type": "stream",
     "text": [
      "Joint 1: diff: 7.032553308429991e-07\n",
      "Joint 2: diff: 6.245710426237736e-07\n",
      "Joint 3: diff: 3.363223936045107e-05\n",
      "Joint 4: diff: 4.4887476922268265e-05\n",
      "Joint 5: diff: 5.132707918763116e-05\n",
      "Joint 6: diff: 4.7229376975743784e-05\n",
      "Joint 7: diff: 5.1495999316080035e-05\n"
     ]
    }
   ],
   "source": [
    "err_j2b = 0\n",
    "for i in range(7):\n",
    "    #vrep\n",
    "    T = np.eye(4)\n",
    "    T[:3, :] = np.array(ct_robot.DH_frames[i+1].get_matrix()).reshape(3,4)\n",
    "    \n",
    "    # FK\n",
    "    Tp = sp.lambdify(robot.q, robot._Tjoint[i])(*tuple(joint_pos))\n",
    "    print('Joint %d: diff:'%(i+1), np.linalg.norm(Tp - T))\n",
    "    if np.linalg.norm(Tp - T) > 1e-4:\n",
    "        err_j2b += 1\n",
    "        print('Wrong match of joint %d'%(i+1))\n",
    "        print('getting from V-REP')\n",
    "        print(T)\n",
    "        print('----------------------------------')\n",
    "        print('getting from FK')\n",
    "        print(Tp)\n",
    "        print('----------------------------------')"
   ]
  },
  {
   "cell_type": "markdown",
   "metadata": {},
   "source": [
    "## Save"
   ]
  },
  {
   "cell_type": "code",
   "execution_count": 13,
   "metadata": {},
   "outputs": [
    {
     "name": "stdout",
     "output_type": "stream",
     "text": [
      "Check FK library with V-REP correct\n",
      "--------------------------------------------------\n",
      "Writing DH parameters, Mass and COM information into file\n",
      "--------------------------------------------------\n",
      "Writing complete\n"
     ]
    }
   ],
   "source": [
    "param = ['D', 'a', 'alpha', 'theta', 'num_joints', 'jointType', 'Tbase', 'L', 'M']\n",
    "if err_j2b == 0 and err_j2j == 0:\n",
    "    print('Check FK library with V-REP correct')\n",
    "    print('--------------------------------------------------')\n",
    "    print('Writing DH parameters, Mass and COM information into file')\n",
    "    for i in range(len(param)):\n",
    "        np.save('./robot_config/config_ct_7DOF/%s'%param[i], eval(param[i]))\n",
    "    print('--------------------------------------------------')\n",
    "    print('Writing complete')\n",
    "else:\n",
    "    print('Please check DH convention with V-REP')"
   ]
  },
  {
   "cell_type": "code",
   "execution_count": 14,
   "metadata": {},
   "outputs": [],
   "source": [
    "pr.stop()\n",
    "pr.shutdown()"
   ]
  }
 ],
 "metadata": {
  "kernelspec": {
   "display_name": "Python 3",
   "language": "python",
   "name": "python3"
  },
  "language_info": {
   "codemirror_mode": {
    "name": "ipython",
    "version": 3
   },
   "file_extension": ".py",
   "mimetype": "text/x-python",
   "name": "python",
   "nbconvert_exporter": "python",
   "pygments_lexer": "ipython3",
   "version": "3.6.8"
  }
 },
 "nbformat": 4,
 "nbformat_minor": 2
}
