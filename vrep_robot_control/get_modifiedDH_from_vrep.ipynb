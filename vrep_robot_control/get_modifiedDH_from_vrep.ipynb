{
 "cells": [
  {
   "cell_type": "code",
   "execution_count": 1,
   "metadata": {},
   "outputs": [],
   "source": [
    "import numpy as np\n",
    "from pyrep import PyRep\n",
    "from arm import CtRobot\n",
    "from my_rigid_kinematics import dh_robot_config\n",
    "import sympy as sp\n",
    "import os\n",
    "import transforms3d as t3d\n",
    "from pyrep.backend import vrep\n",
    "\n",
    "pi = np.pi"
   ]
  },
  {
   "cell_type": "code",
   "execution_count": 2,
   "metadata": {},
   "outputs": [],
   "source": [
    "pr = PyRep()\n",
    "pr.launch(os.getcwd() + '/Modified_DH.ttt', headless=True)"
   ]
  },
  {
   "cell_type": "code",
   "execution_count": 3,
   "metadata": {},
   "outputs": [],
   "source": [
    "pr.start()\n",
    "ct_robot = CtRobot()"
   ]
  },
  {
   "cell_type": "markdown",
   "metadata": {},
   "source": [
    "## My calibration (based on vrep 'reference_frame')"
   ]
  },
  {
   "cell_type": "code",
   "execution_count": 4,
   "metadata": {},
   "outputs": [],
   "source": [
    "# Grab modified DH parameters from V-REP using the dummy 'DH_frame'\n",
    "# Need to set up their orientation following modified DH convention\n",
    "D = []\n",
    "theta = []\n",
    "alpha = []\n",
    "a = []\n",
    "L = []\n",
    "jointType = ['p', 'p', 'r', 'r', 'r', 'r', 'p']\n",
    "for i in range(ct_robot._num_joints):\n",
    "    j = i+1\n",
    "    tmp_alpha = ct_robot.DH_frames[i+1].get_orientation(relative_to=ct_robot.DH_frames[i])\n",
    "    tmp_a = ct_robot.DH_frames[i+1].get_position(relative_to=ct_robot.DH_frames[i])\n",
    "    if tmp_alpha[0] < -1e-5 or tmp_alpha[0] > 1e-5:\n",
    "        alpha.append(tmp_alpha[0])\n",
    "    else:\n",
    "        alpha.append(0)\n",
    "    a.append(tmp_a[0])\n",
    "    \n",
    "    tmp_d = -ct_robot.DH_frames[j-1].get_position(relative_to=ct_robot.DH_frames[j])[2]\n",
    "    tmp_theta = -ct_robot.DH_frames[j-1].get_orientation(relative_to=ct_robot.DH_frames[j])[2]\n",
    "    if tmp_theta < -1e-5 or tmp_theta > 1e-5:\n",
    "        theta.append(tmp_theta)\n",
    "    else:\n",
    "        theta.append(0)   \n",
    "    D.append(tmp_d)\n",
    "# Center of mass of link with respect to each joint    \n",
    "for i in range(ct_robot._num_joints+1):\n",
    "    L.append(ct_robot.COMs[i].get_position(relative_to=ct_robot.DH_frames[i]))\n",
    "    \n",
    "Tbase = np.concatenate((np.array(ct_robot.DH_frames[0].get_matrix()).reshape(3,4), np.array([[0,0,0,1]])))\n",
    "\n",
    "num_joints = ct_robot._num_joints"
   ]
  },
  {
   "cell_type": "code",
   "execution_count": null,
   "metadata": {},
   "outputs": [],
   "source": [
    "# Grab modified DH parameters from V-REP using the dummy 'DH_frame'\n",
    "# Need to set up their orientation following modified DH convention\n",
    "D = []\n",
    "theta = []\n",
    "alpha = []\n",
    "a = []\n",
    "L = []\n",
    "jointType = ['p', 'p', 'r', 'r', 'r', 'r', 'p']\n",
    "for i in range(ct_robot._num_joints):\n",
    "    tmp_alpha = ct_robot.DH_frames[i+1].get_orientation(relative_to=ct_robot.DH_frames[i])[0]\n",
    "    tmp_a = ct_robot.DH_frames[i+1].get_position(relative_to=ct_robot.DH_frames[i])[0]\n",
    "    if tmp_alpha < -1e-5 or tmp_alpha > 1e-5:\n",
    "        alpha.append(tmp_alpha)\n",
    "    else:\n",
    "        alpha.append(0)\n",
    "    a.append(tmp_a)\n",
    "    \n",
    "    tmp_d = ct_robot.DH_frames[i+1].get_position(relative_to=ct_robot.DH_frames[i])[2]\n",
    "    tmp_theta = ct_robot.DH_frames[i+1].get_orientation(relative_to=ct_robot.DH_frames[i])[2]\n",
    "    if tmp_theta < -1e-5 or tmp_theta > 1e-5:\n",
    "        theta.append(tmp_theta)\n",
    "    else:\n",
    "        theta.append(0)   \n",
    "    D.append(tmp_d)\n",
    "# Center of mass of link with respect to each joint    \n",
    "for i in range(ct_robot._num_joints+1):\n",
    "    L.append(ct_robot.COMs[i].get_position(relative_to=ct_robot.DH_frames[i]))\n",
    "    \n",
    "Tbase = np.concatenate((np.array(ct_robot.DH_frames[0].get_matrix()).reshape(3,4), np.array([[0,0,0,1]])))\n",
    "num_joints = ct_robot._num_joints"
   ]
  },
  {
   "cell_type": "code",
   "execution_count": 5,
   "metadata": {},
   "outputs": [],
   "source": [
    "robot = dh_robot_config(num_joints, alpha, theta, D, a, jointType, Tbase)"
   ]
  },
  {
   "cell_type": "code",
   "execution_count": 6,
   "metadata": {},
   "outputs": [],
   "source": [
    "robot.initKinematicTransforms()"
   ]
  },
  {
   "cell_type": "markdown",
   "metadata": {},
   "source": [
    "## V-REP"
   ]
  },
  {
   "cell_type": "code",
   "execution_count": 18,
   "metadata": {},
   "outputs": [
    {
     "name": "stdout",
     "output_type": "stream",
     "text": [
      "---------------------------\n",
      "Joint 1\n",
      "D: -0.0, theta: 0, a[i-1]: 0.0, alpha[i-1]: 0\n",
      "---------------------------\n",
      "Joint 2\n",
      "D: 2.2900366047906573e-09, theta: 0, a[i-1]: 0.05849161744117737, alpha[i-1]: 1.570797085762024\n",
      "---------------------------\n",
      "Joint 3\n",
      "D: 1.7881393432617188e-07, theta: 0, a[i-1]: 0.1404283195734024, alpha[i-1]: -1.5707967281341553\n",
      "---------------------------\n",
      "Joint 4\n",
      "D: -5.416572093963623e-06, theta: 0, a[i-1]: 3.4868717193603516e-06, alpha[i-1]: 1.5708014965057373\n",
      "---------------------------\n",
      "Joint 5\n",
      "D: 1.6242265701293945e-06, theta: 1.5708030462265015, a[i-1]: 1.1622905731201172e-06, alpha[i-1]: 0\n",
      "---------------------------\n",
      "Joint 6\n",
      "D: 2.3581287678098306e-06, theta: -1.5707963705062866, a[i-1]: 0.08000022172927856, alpha[i-1]: 1.5707966089248657\n",
      "---------------------------\n",
      "Joint 7\n",
      "D: 0.03896486759185791, theta: 0, a[i-1]: 2.562999725341797e-06, alpha[i-1]: -1.5707961320877075\n"
     ]
    }
   ],
   "source": [
    "for i in range(7):\n",
    "    print('---------------------------')\n",
    "    print('Joint {}'.format(i+1))\n",
    "    print('D: {}, theta: {}, a[i-1]: {}, alpha[i-1]: {}'.format(D[i],theta[i],a[i],alpha[i]))\n",
    "#print(\"D {}, theta {}\\n\"\n",
    "    \n",
    "    #D, '\\n',  '\\n',theta, '\\n',  '\\n',a, '\\n', '\\n', alpha)"
   ]
  },
  {
   "cell_type": "code",
   "execution_count": null,
   "metadata": {},
   "outputs": [],
   "source": [
    "theta = 0\n",
    "alpha = alpha[3]\n",
    "D = D[3]\n",
    "a =a[3]\n",
    "A = np.array([\n",
    "    [np.cos(theta), -np.sin(theta), 0, a],\n",
    "    [np.sin(theta)*np.cos(alpha), np.cos(theta)*np.cos(alpha), -np.sin(alpha), -D*np.sin(alpha)],\n",
    "    [np.sin(theta)*np.sin(alpha), np.cos(theta)*np.sin(alpha), np.cos(alpha), D*np.cos(alpha)],\n",
    "    [0, 0, 0, 1]])\n",
    "\n",
    "print(A)"
   ]
  },
  {
   "cell_type": "code",
   "execution_count": null,
   "metadata": {},
   "outputs": [],
   "source": [
    "for i in range(7):\n",
    "    T = np.eye(4)\n",
    "    T[:3, :] = np.array(ct_robot.DH_frames[i+1].get_matrix()). \\\n",
    "    reshape(3,4)\n",
    "    print(T)"
   ]
  },
  {
   "cell_type": "code",
   "execution_count": null,
   "metadata": {},
   "outputs": [],
   "source": [
    "for i in range(7):\n",
    "    T = np.eye(4)\n",
    "    T[:3, :] = np.array(ct_robot.DH_frames[i+1].get_matrix()).reshape(3,4)\n",
    "    Tp = sp.lambdify(robot.q, robot._Tjoint[i])(*tuple(joint_pos))\n",
    "    print('diff:', np.linalg.norm(Tp - T))\n",
    "    if np.linalg.norm(Tp - T) > 1e-4:\n",
    "        print(i)\n",
    "        print(T)\n",
    "        print(Tp)"
   ]
  },
  {
   "cell_type": "markdown",
   "metadata": {},
   "source": [
    "## DH-FK"
   ]
  },
  {
   "cell_type": "code",
   "execution_count": 14,
   "metadata": {},
   "outputs": [],
   "source": [
    "# set_jot_pos = [0.01, 0.02, 0.4, 0.5, 0, 0.3, 0.05]\n",
    "set_jot_pos = [0.0, 0.0, 0.0, 0.0, 0, 0.0, 0.0]\n",
    "ct_robot.set_joint_positions(set_jot_pos)"
   ]
  },
  {
   "cell_type": "code",
   "execution_count": 15,
   "metadata": {},
   "outputs": [
    {
     "name": "stdout",
     "output_type": "stream",
     "text": [
      "Joint position is [0.0, 0.0, 0.0, 0.0, 0.0, 0.0, 0.0]\n",
      "Tip position is [0.001053992542438209, -0.7582254409790039, 0.19892005622386932]\n",
      "Tip orientation is [1.5708180665969849, 4.291534423828125e-06, -1.5707895755767822]\n"
     ]
    }
   ],
   "source": [
    "joint_pos = [ct_robot.joints[i].get_joint_position() for i in range(ct_robot._num_joints)]\n",
    "print('Joint position is', joint_pos)\n",
    "print('Tip position is', ct_robot._ik_tip.get_position())\n",
    "print('Tip orientation is', ct_robot._ik_tip.get_orientation())"
   ]
  },
  {
   "cell_type": "code",
   "execution_count": 17,
   "metadata": {},
   "outputs": [
    {
     "data": {
      "text/plain": [
       "(-1.5707963267948966, -0.0, 0.0)"
      ]
     },
     "execution_count": 17,
     "metadata": {},
     "output_type": "execute_result"
    }
   ],
   "source": [
    "t3d.euler.mat2euler(np.array([[1,0,0],[0,0,1],[0,-1,0]]))"
   ]
  },
  {
   "cell_type": "code",
   "execution_count": 16,
   "metadata": {},
   "outputs": [
    {
     "name": "stdout",
     "output_type": "stream",
     "text": [
      "diff: 6.756653009309692e-07\n",
      "diff: 3.3787713722734226e-07\n",
      "diff: 2.3754775355250753e-07\n",
      "diff: 2.1287110252758947e-05\n",
      "diff: 2.0016052834099183\n",
      "Wrong match of joint 5\n",
      "getting from V-REP\n",
      "[[-6.79492950e-06  5.90085983e-06  1.00000000e+00  1.16229057e-06]\n",
      " [ 1.00000000e+00  1.19209290e-07  6.73532486e-06  7.99999237e-02]\n",
      " [-1.78813934e-07  1.00000000e+00 -5.96046448e-06 -2.31764807e-06]\n",
      " [ 0.00000000e+00  0.00000000e+00  0.00000000e+00  1.00000000e+00]]\n",
      "----------------------------------\n",
      "getting from FK\n",
      "[[-6.71943160e-06 -1.00000000e+00  0.00000000e+00  1.16229057e-06]\n",
      " [ 1.00000000e+00 -6.71943160e-06  0.00000000e+00  0.00000000e+00]\n",
      " [ 0.00000000e+00  0.00000000e+00  1.00000000e+00  1.62422657e-06]\n",
      " [ 0.00000000e+00  0.00000000e+00  0.00000000e+00  1.00000000e+00]]\n",
      "----------------------------------\n",
      "diff: 1.8885224889470909e-06\n",
      "diff: 0.001063072653392345\n",
      "Wrong match of joint 7\n",
      "getting from V-REP\n",
      "[[ 1.00000000e+00 -1.26522210e-07  1.26358898e-07  2.56299973e-06]\n",
      " [-1.26358870e-07  1.78813934e-07  1.00000012e+00  3.89649272e-02]\n",
      " [-1.26522238e-07 -1.00000012e+00  1.78813934e-07 -1.06306502e-03]\n",
      " [ 0.00000000e+00  0.00000000e+00  0.00000000e+00  1.00000000e+00]]\n",
      "----------------------------------\n",
      "getting from FK\n",
      "[[ 1.00000000e+00  0.00000000e+00  0.00000000e+00  2.56299973e-06]\n",
      " [ 0.00000000e+00  1.94707189e-07  1.00000000e+00  3.89648676e-02]\n",
      " [ 0.00000000e+00 -1.00000000e+00  1.94707189e-07  7.58673984e-09]\n",
      " [ 0.00000000e+00  0.00000000e+00  0.00000000e+00  1.00000000e+00]]\n",
      "----------------------------------\n"
     ]
    }
   ],
   "source": [
    "for i in range(7):\n",
    "    \n",
    "#     #vrep\n",
    "#     T = np.eye(4)\n",
    "# #     # Filtering \n",
    "# #     ori = np.array(ct_robot.DH_frames[i+1].get_orientation(ct_robot.DH_frames[i]))\n",
    "# #     for j in range(3):\n",
    "# #         if ori[j] > -1e-6 and ori[j] < 1e-6:\n",
    "# #             ori[j] == 0\n",
    "# #     Rt = t3d.euler.euler2mat(*tuple(ori.tolist()), 'rxyz')\n",
    "# #     T[:3, :3] = Rt\n",
    "# #     T[:3, 3] = ct_robot.DH_frames[i+1].get_position(ct_robot.DH_frames[i])\n",
    "\n",
    "\n",
    "    #vrep\n",
    "    T = np.eye(4)\n",
    "    T[:3, :] = np.array(ct_robot.DH_frames[i+1].get_matrix(ct_robot.DH_frames[i])). \\\n",
    "    reshape(3,4)\n",
    "    \n",
    "    # FK\n",
    "    Tp = sp.lambdify(robot.q, robot._Tj2j[i])(*tuple(joint_pos))\n",
    "    print('diff:', np.linalg.norm(Tp - T))\n",
    "    if np.linalg.norm(Tp - T) > 1e-4:\n",
    "        print('Wrong match of joint %d'%(i+1))\n",
    "        print('getting from V-REP')\n",
    "        print(T)\n",
    "        print('----------------------------------')\n",
    "        print('getting from FK')\n",
    "        print(Tp)\n",
    "        print('----------------------------------')"
   ]
  },
  {
   "cell_type": "code",
   "execution_count": null,
   "metadata": {
    "scrolled": true
   },
   "outputs": [],
   "source": [
    "T_j7 = sp.lambdify(robot.q, robot._Tjoint[6])(*tuple(joint_pos))\n",
    "pos_j7 = T_j7[:3, 3]\n",
    "R_j7 = T_j7[:3, :3]\n",
    "ori_j7 = t3d.euler.mat2euler(R_j7, 'sxyz')\n",
    "print('Tip position is', pos_j7)\n",
    "print('Tip orientation is', ori_j7)"
   ]
  },
  {
   "cell_type": "markdown",
   "metadata": {},
   "source": [
    "## Compare"
   ]
  },
  {
   "cell_type": "code",
   "execution_count": null,
   "metadata": {},
   "outputs": [],
   "source": [
    "for i in range(ct_robot._num_joints):\n",
    "    "
   ]
  },
  {
   "cell_type": "code",
   "execution_count": null,
   "metadata": {},
   "outputs": [],
   "source": [
    "pr.shutdown()\n"
   ]
  }
 ],
 "metadata": {
  "kernelspec": {
   "display_name": "Python 3",
   "language": "python",
   "name": "python3"
  },
  "language_info": {
   "codemirror_mode": {
    "name": "ipython",
    "version": 3
   },
   "file_extension": ".py",
   "mimetype": "text/x-python",
   "name": "python",
   "nbconvert_exporter": "python",
   "pygments_lexer": "ipython3",
   "version": "3.6.8"
  }
 },
 "nbformat": 4,
 "nbformat_minor": 2
}
