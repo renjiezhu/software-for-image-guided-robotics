{
 "cells": [
  {
   "cell_type": "code",
   "execution_count": 1,
   "metadata": {},
   "outputs": [],
   "source": [
    "import numpy as np\n",
    "from pyrep import PyRep\n",
    "from arm import CtRobot\n",
    "from my_rigid_kinematics import dh_robot_config\n",
    "import sympy as sp\n",
    "import os\n",
    "import transforms3d as t3d\n",
    "from pyrep.backend import vrep\n",
    "\n",
    "pi = np.pi\n",
    "pr = PyRep()\n",
    "pr.launch(os.getcwd() + '/DH_ct.ttt', headless=True)\n",
    "\n",
    "pr.start()\n",
    "ct_robot = CtRobot()"
   ]
  },
  {
   "cell_type": "markdown",
   "metadata": {},
   "source": [
    "## My calibration (based on vrep 'reference_frame')"
   ]
  },
  {
   "cell_type": "code",
   "execution_count": 3,
   "metadata": {},
   "outputs": [],
   "source": [
    "D = []\n",
    "theta = []\n",
    "alpha = []\n",
    "a = []\n",
    "jointType = ['p', 'p', 'r', 'r', 'r', 'r', 'p']\n",
    "for i in range(ct_robot._num_joints):\n",
    "    tmp = ct_robot.DH_frames[i+1].get_orientation(relative_to=ct_robot.DH_frames[i])\n",
    "    if tmp[0] < -1e-6 or tmp[0] > 1e-6:\n",
    "        alpha.append(tmp[0])\n",
    "    else:\n",
    "        alpha.append(0)\n",
    "    if tmp[2] < -1e-6 or tmp[2] > 1e-6:\n",
    "        theta.append(tmp[2])\n",
    "    else:\n",
    "        theta.append(0)\n",
    "    D.append(ct_robot.DH_frames[i+1].get_position(relative_to=ct_robot.DH_frames[i])[2])\n",
    "    a.append(-ct_robot.DH_frames[i].get_position(relative_to=ct_robot.DH_frames[i+1])[0])\n",
    "\n",
    "ai, aj, ak = ct_robot.DH_frames[0].get_orientation()\n",
    "num_joints = ct_robot._num_joints"
   ]
  },
  {
   "cell_type": "code",
   "execution_count": 4,
   "metadata": {},
   "outputs": [],
   "source": [
    "robot = dh_robot_config(num_joints, alpha, theta, D, a, jointType, ai, aj, ak)"
   ]
  },
  {
   "cell_type": "code",
   "execution_count": 5,
   "metadata": {},
   "outputs": [
    {
     "data": {
      "text/plain": [
       "[-0.027500152587890625,\n",
       " 0.13150011003017426,\n",
       " 0.13551756739616394,\n",
       " 0.32129254937171936,\n",
       " -2.3543834686279297e-06,\n",
       " 1.862645149230957e-06,\n",
       " -0.0010605506831780076]"
      ]
     },
     "execution_count": 5,
     "metadata": {},
     "output_type": "execute_result"
    }
   ],
   "source": [
    "D"
   ]
  },
  {
   "cell_type": "code",
   "execution_count": 6,
   "metadata": {},
   "outputs": [
    {
     "data": {
      "text/plain": [
       "[0.03650001063942909,\n",
       " 0.02199193835258484,\n",
       " 0.14034341275691986,\n",
       " 0.3212924897670746,\n",
       " 0.07999998331069946,\n",
       " -1.8477439880371094e-06,\n",
       " -0.022849738597869873]"
      ]
     },
     "execution_count": 6,
     "metadata": {},
     "output_type": "execute_result"
    }
   ],
   "source": [
    "a"
   ]
  },
  {
   "cell_type": "code",
   "execution_count": 7,
   "metadata": {},
   "outputs": [
    {
     "data": {
      "text/plain": [
       "[0, 0, 0, 1.5708119869232178, 0, -1.5707963705062866, 0]"
      ]
     },
     "execution_count": 7,
     "metadata": {},
     "output_type": "execute_result"
    }
   ],
   "source": [
    "theta"
   ]
  },
  {
   "cell_type": "code",
   "execution_count": null,
   "metadata": {},
   "outputs": [],
   "source": [
    "# Recalibrate Transformation matrix to be unique with respect to VREP\n",
    "for i in range(robot.num_joints):\n",
    "    pos = ct_robot.DH_frames[i+1].get_position(relative_to=ct_robot.DH_frames[i])\n",
    "    if robot.jointType[i] == 'p':\n",
    "        if i == 6:\n",
    "            pos[1] = pos[1] + robot.q[i]\n",
    "        else:\n",
    "            pos[2] = pos[2] + robot.q[i]\n",
    "    robot._Tjoint[i][:3, 3] = pos"
   ]
  },
  {
   "cell_type": "code",
   "execution_count": null,
   "metadata": {},
   "outputs": [],
   "source": [
    "robot.initKinematicTransforms()"
   ]
  },
  {
   "cell_type": "code",
   "execution_count": null,
   "metadata": {},
   "outputs": [],
   "source": [
    "robot._calc_J_position(6, lambdify=False).shape"
   ]
  },
  {
   "cell_type": "markdown",
   "metadata": {},
   "source": [
    "## V-REP"
   ]
  },
  {
   "cell_type": "code",
   "execution_count": null,
   "metadata": {},
   "outputs": [],
   "source": [
    "set_jot_pos = [0.01, 0.02, 0.4, 0.5, 0, 0.3, 0.05]\n",
    "ct_robot.set_joint_positions(set_jot_pos)"
   ]
  },
  {
   "cell_type": "code",
   "execution_count": null,
   "metadata": {},
   "outputs": [],
   "source": [
    "joint_pos = [ct_robot.joints[i].get_joint_position() for i in range(ct_robot._num_joints)]\n",
    "print('Joint position is', joint_pos)\n",
    "print('Tip position is', ct_robot._ik_tip.get_position())\n",
    "print('Tip orientation is', ct_robot._ik_tip.get_orientation())"
   ]
  },
  {
   "cell_type": "code",
   "execution_count": null,
   "metadata": {},
   "outputs": [],
   "source": [
    "for i in range(7):\n",
    "    T = np.eye(4)\n",
    "    # Filtering \n",
    "    ori = np.array(ct_robot.DH_frames[i+1].get_orientation(ct_robot.DH_frames[i]))\n",
    "    for j in range(3):\n",
    "        if tmp[2] > -1e-6 and tmp[2] < 1e-6:\n",
    "            ori[j] == 0\n",
    "    Rt = t3d.euler.euler2mat(*tuple(ori.tolist()), 'rxyz')\n",
    "    T[:3, :3] = Rt\n",
    "    T[:3, 3] = ct_robot.DH_frames[i+1].get_position(ct_robot.DH_frames[i])\n",
    "    Tp = sp.lambdify(robot.q, robot._Tjoint[i])(*tuple(joint_pos))\n",
    "    print('diff:', np.linalg.norm(Tp - T))"
   ]
  },
  {
   "cell_type": "markdown",
   "metadata": {},
   "source": [
    "## DH-FK"
   ]
  },
  {
   "cell_type": "code",
   "execution_count": null,
   "metadata": {
    "scrolled": true
   },
   "outputs": [],
   "source": [
    "T_j7 = sp.lambdify(robot.q, robot._T[6])(*tuple(joint_pos))\n",
    "pos_j7 = T_j7[:3, 3]\n",
    "R_j7 = T_j7[:3, :3]\n",
    "ori_j7 = t3d.euler.mat2euler(R_j7, 'rxyz')\n",
    "print('Tip position is', pos_j7)\n",
    "print('Tip orientation is', ori_j7)"
   ]
  },
  {
   "cell_type": "code",
   "execution_count": null,
   "metadata": {},
   "outputs": [],
   "source": [
    "len(robot._T)"
   ]
  },
  {
   "cell_type": "markdown",
   "metadata": {},
   "source": [
    "## Compare"
   ]
  },
  {
   "cell_type": "code",
   "execution_count": null,
   "metadata": {},
   "outputs": [],
   "source": [
    "for i in range(ct_robot._num_joints):\n",
    "    "
   ]
  },
  {
   "cell_type": "code",
   "execution_count": null,
   "metadata": {},
   "outputs": [],
   "source": [
    "pr.shutdown()\n"
   ]
  }
 ],
 "metadata": {
  "kernelspec": {
   "display_name": "Python 3",
   "language": "python",
   "name": "python3"
  },
  "language_info": {
   "codemirror_mode": {
    "name": "ipython",
    "version": 3
   },
   "file_extension": ".py",
   "mimetype": "text/x-python",
   "name": "python",
   "nbconvert_exporter": "python",
   "pygments_lexer": "ipython3",
   "version": "3.6.8"
  }
 },
 "nbformat": 4,
 "nbformat_minor": 2
}
