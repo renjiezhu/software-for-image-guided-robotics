{
 "cells": [
  {
   "cell_type": "code",
   "execution_count": 1,
   "metadata": {},
   "outputs": [],
   "source": [
    "import numpy as np\n",
    "from pyrep import PyRep\n",
    "from arm import CtRobot\n",
    "from rigid_kinematics import dh_robot_config\n",
    "import sympy as sp\n",
    "import os\n",
    "import transforms3d as t3d\n",
    "\n",
    "pi = np.pi/2\n",
    "pr = PyRep()"
   ]
  },
  {
   "cell_type": "code",
   "execution_count": 54,
   "metadata": {},
   "outputs": [],
   "source": [
    "pr.launch(os.getcwd() + '/DH_ct.ttt', headless=True)"
   ]
  },
  {
   "cell_type": "code",
   "execution_count": 55,
   "metadata": {},
   "outputs": [],
   "source": [
    "pr.start()\n",
    "ct_robot = CtRobot()"
   ]
  },
  {
   "cell_type": "markdown",
   "metadata": {},
   "source": [
    "## My calibration (based on vrep 'reference_frame')"
   ]
  },
  {
   "cell_type": "code",
   "execution_count": 58,
   "metadata": {},
   "outputs": [],
   "source": [
    "D = []\n",
    "theta = []\n",
    "alpha = []\n",
    "a = []\n",
    "jointType = ['p', 'p', 'r', 'r', 'r', 'r', 'p']\n",
    "for i in range(ct_robot._num_joints):\n",
    "    tmp = ct_robot.DH_frames[i+1].get_orientation(relative_to=ct_robot.DH_frames[i])\n",
    "    if tmp[0] < -1e-6 or tmp[0] > 1e-6:\n",
    "        alpha.append(tmp[0])\n",
    "    else:\n",
    "        alpha.append(0)\n",
    "    if tmp[2] < -1e-6 or tmp[2] > 1e-6:\n",
    "        theta.append(tmp[2])\n",
    "    else:\n",
    "        theta.append(0)\n",
    "\n",
    "ai, aj, ak = ct_robot.DH_frames[0].get_orientation()"
   ]
  },
  {
   "cell_type": "code",
   "execution_count": 60,
   "metadata": {},
   "outputs": [
    {
     "data": {
      "text/plain": [
       "[0, 0, 0, 1.5708118677139282, 0, -1.5707964897155762, 0]"
      ]
     },
     "execution_count": 60,
     "metadata": {},
     "output_type": "execute_result"
    }
   ],
   "source": [
    "theta"
   ]
  },
  {
   "cell_type": "code",
   "execution_count": 21,
   "metadata": {},
   "outputs": [
    {
     "data": {
      "text/plain": [
       "[0.5, -0.5, 0.5, 0.5]"
      ]
     },
     "execution_count": 21,
     "metadata": {},
     "output_type": "execute_result"
    }
   ],
   "source": [
    "ct_robot.DH_frames[0].get_quaternion()"
   ]
  },
  {
   "cell_type": "markdown",
   "metadata": {},
   "source": [
    "## Based on Paper ( for convenience)"
   ]
  },
  {
   "cell_type": "code",
   "execution_count": 25,
   "metadata": {},
   "outputs": [],
   "source": [
    "num_joints = 7\n",
    "a = [0, 0, 0, 0, 0.08, 0.08, 0.0557, 0]\n",
    "alpha = [pi/2, -pi/2, 0, pi/2, pi/2, pi/2, -pi/2, 0]\n",
    "D = [0, 0, 0, 0, 0, 0, 0.0274, 0.115]\n",
    "theta = [0, 0, 0, pi/2, 0, -pi/2, 0, pi/2] \n",
    "jointType = ['p', 'p', 'r', 'r', 'r', 'r', 'p']\n",
    "ai = pi/2\n",
    "aj = 0\n",
    "ak = pi/2"
   ]
  },
  {
   "cell_type": "code",
   "execution_count": 26,
   "metadata": {},
   "outputs": [],
   "source": [
    "robot = dh_robot_config(num_joints, alpha, theta, D, a, jointType, ai, aj, ak)"
   ]
  },
  {
   "cell_type": "markdown",
   "metadata": {},
   "source": [
    "## V-REP"
   ]
  },
  {
   "cell_type": "code",
   "execution_count": 31,
   "metadata": {},
   "outputs": [
    {
     "name": "stdout",
     "output_type": "stream",
     "text": [
      "Joint position is [0.0, 0.0, 0.0, 0.0, 0.0, 0.0, 0.0]\n",
      "Tip position is [0.0010542183881625533, -0.6585248708724976, 0.22177208960056305]\n",
      "Tip orientation is [1.1082737216838723e-07, -4.470347647611561e-08, 8.568166975919667e-08]\n"
     ]
    }
   ],
   "source": [
    "joint_pos = [ct_robot.joints[i].get_joint_position() for i in range(ct_robot._num_joints)]\n",
    "print('Joint position is', joint_pos)\n",
    "print('Tip position is', ct_robot._ik_tip.get_position())\n",
    "print('Tip orientation is', ct_robot._ik_tip.get_orientation())"
   ]
  },
  {
   "cell_type": "markdown",
   "metadata": {},
   "source": [
    "## DH-FK"
   ]
  },
  {
   "cell_type": "code",
   "execution_count": 33,
   "metadata": {
    "scrolled": true
   },
   "outputs": [
    {
     "name": "stdout",
     "output_type": "stream",
     "text": [
      "Tip position is [0.0171875  0.18787307 0.0456182 ]\n",
      "Tip orientation is (2.8860972799412714, 0.14697519066350537, 1.8262917004434172)\n"
     ]
    }
   ],
   "source": [
    "T_j7 = sp.lambdify(robot.q, robot._T[6])(*(0, 0,0,0,0,0,0))\n",
    "pos_j7 = T_j7[:3, 3]\n",
    "R_j7 = T_j7[:3, :3]\n",
    "ori_j7 = t3d.euler.mat2euler(R_j7)\n",
    "print('Tip position is', pos_j7)\n",
    "print('Tip orientation is', ori_j7)"
   ]
  },
  {
   "cell_type": "markdown",
   "metadata": {},
   "source": [
    "num_joints = 8\n",
    "alpha = [-pi/2, pi/2, 0, pi/2, pi/2, -pi/2, -pi/2, 0]\n",
    "theta = [0, pi/2, 0, pi/2, pi/2, 0, -pi/2, 0]\n",
    "D = [0, 0, 0, 0, 0, 0, 0, 0.05]\n",
    "a = [0, 0, 0, 0, 0.08, 0.08, 0, 0]\n",
    "jointType = ['p', 'p', 'p', 'r', 'r', 'r', 'r', 'p']\n",
    "ai = pi/2\n",
    "aj = 0\n",
    "ak = 0\n",
    "\n",
    "robot1 = dh_robot_config(num_joints, alpha, theta, D, a, jointType, ai, aj, ak)"
   ]
  },
  {
   "cell_type": "code",
   "execution_count": null,
   "metadata": {},
   "outputs": [],
   "source": [
    "robot._Tjoint[1]"
   ]
  },
  {
   "cell_type": "markdown",
   "metadata": {},
   "source": [
    "## Compare"
   ]
  },
  {
   "cell_type": "code",
   "execution_count": null,
   "metadata": {},
   "outputs": [],
   "source": [
    "for i in range(ct_robot._num_joints):\n",
    "    print('Tip position is', ct_robot._ik_tip.get_position())\n",
    "    print('Tip orientation is', ct_robot._ik_tip.get_orientation())"
   ]
  },
  {
   "cell_type": "code",
   "execution_count": 53,
   "metadata": {},
   "outputs": [],
   "source": [
    "pr.shutdown()\n"
   ]
  }
 ],
 "metadata": {
  "kernelspec": {
   "display_name": "Python 3",
   "language": "python",
   "name": "python3"
  },
  "language_info": {
   "codemirror_mode": {
    "name": "ipython",
    "version": 3
   },
   "file_extension": ".py",
   "mimetype": "text/x-python",
   "name": "python",
   "nbconvert_exporter": "python",
   "pygments_lexer": "ipython3",
   "version": "3.6.8"
  }
 },
 "nbformat": 4,
 "nbformat_minor": 2
}
