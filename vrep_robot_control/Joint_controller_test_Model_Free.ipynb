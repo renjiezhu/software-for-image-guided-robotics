{
 "cells": [
  {
   "cell_type": "code",
   "execution_count": 1,
   "metadata": {},
   "outputs": [],
   "source": [
    "import numpy as np\n",
    "import os\n",
    "from DH_dynamics import dh_robot_config\n",
    "from JS_control import *\n",
    "import matplotlib.pyplot as plt\n",
    "from pyrep import PyRep\n",
    "from arm import CtRobot\n",
    "from pyrep.backend import vrep\n",
    "import sympy as sp\n",
    "from pyrep.const import JointMode\n",
    "import time\n",
    "\n",
    "%matplotlib notebook\n",
    "\n",
    "pr = PyRep()"
   ]
  },
  {
   "cell_type": "code",
   "execution_count": 2,
   "metadata": {},
   "outputs": [],
   "source": [
    "param = ['D', 'a', 'alpha', 'theta', 'num_joints', 'jointType', 'Tbase', 'L', 'M']\n",
    "config = dict()\n",
    "for i in range(len(param)):\n",
    "#     config[param[i]] = np.load('./robot_config/config_ct_7DOF/%s.npy'%param[i])\n",
    "    config[param[i]] = np.load('./robot_config/inbore_config/%s.npy'%param[i])"
   ]
  },
  {
   "cell_type": "code",
   "execution_count": 3,
   "metadata": {},
   "outputs": [
    {
     "name": "stdout",
     "output_type": "stream",
     "text": [
      "Calculating link 0\n",
      "Calculating link 1\n",
      "Calculating link 2\n",
      "Calculating link 3\n",
      "Calculating link 4\n",
      "Calculating Mass and Gravity Matrix...\n",
      "-------------------------------------------------------------------\n",
      "Calculation complete\n"
     ]
    }
   ],
   "source": [
    "robot = dh_robot_config(int(config['num_joints']), config['alpha'], config['theta'], config['D'], config['a'], \n",
    "                                                config['jointType'], config['Tbase'], config['L'], config['M'])\n",
    "robot.initKinematicTransforms()"
   ]
  },
  {
   "cell_type": "markdown",
   "metadata": {},
   "source": [
    "## Simulation Set up\n",
    "\n",
    "### For all joints"
   ]
  },
  {
   "cell_type": "code",
   "execution_count": null,
   "metadata": {},
   "outputs": [],
   "source": [
    "pr.launch(os.getcwd() + '/ct_robot.ttt', headless=False)\n",
    "ct_robot = CtRobot(name='inbore_arm', num_joints=4, joint_type=['r','r','r','p'])\n",
    "\n",
    "xyz = np.array([0, 0, 0])"
   ]
  },
  {
   "cell_type": "code",
   "execution_count": null,
   "metadata": {},
   "outputs": [],
   "source": [
    "dt = 0.01\n",
    "pr.set_simulation_timestep(dt)"
   ]
  },
  {
   "cell_type": "code",
   "execution_count": null,
   "metadata": {},
   "outputs": [],
   "source": [
    "# Starting simulation\n",
    "pr.start()\n",
    "err_pos = []\n",
    "err_vel = []\n",
    "mespos = []\n",
    "depos = []\n",
    "\n",
    "# Set up joints to be in force control mode\n",
    "for i in range(ct_robot._num_joints):\n",
    "    ct_robot.joints[i].set_joint_mode(JointMode.FORCE)\n",
    "    ct_robot.joints[i].set_control_loop_enabled(False)\n",
    "    ct_robot.joints[i].set_motor_locked_at_zero_velocity(True)\n",
    "    ct_robot.joints[i].set_joint_position(0)\n",
    "for j in range(1, ct_robot._num_joints + 1):\n",
    "    ct_robot.arms[i].set_dynamic(True)\n",
    "ct_robot.arms[0].set_dynamic(False)\n",
    "pr.step()\n",
    "\n",
    "# Desired trajectory\n",
    "end_time = 4\n",
    "t_dic = np.linspace(0, end_time, num=int(end_time/dt), endpoint=True)\n",
    "t = sp.Symbol('t')\n",
    "# disired trajectory of position for each joint\n",
    "\n",
    "# # Sine wave activation\n",
    "# traj = [\n",
    "#     0.0*sp.sin(t*4),\n",
    "#     0.0*sp.cos(t*4),\n",
    "#     (0/180*np.pi)*sp.sin(t*np.pi),\n",
    "#     (0/180*np.pi)*sp.sin(t*4),\n",
    "#     (30/180*np.pi)*sp.cos(t*4),\n",
    "#     (0/180*np.pi)*sp.cos(t*4),\n",
    "#     0.00*sp.sin(t/2)\n",
    "# ]\n",
    "\n",
    "# Step response\n",
    "traj = [\n",
    "    (-30/180*np.pi)*sp.ones(1),\n",
    "    (45/180*np.pi)*sp.ones(1),\n",
    "    (20/180*np.pi)*sp.ones(1),\n",
    "    0.005*sp.ones(1)\n",
    "]\n",
    "\n",
    "pos = [sp.lambdify(t, i) for i in traj]\n",
    "vel = [sp.lambdify(t, i.diff(t)) for i in traj]\n",
    "acc = [sp.lambdify(t, i.diff(t).diff(t)) for i in traj]\n",
    "\n",
    "# Gain\n",
    "kp = np.diag([1.2, 1, 0.4, 0.4])\n",
    "# kv = np.diag([10, 7, 2, 3])\n",
    "kv = 3*np.diag(kp)\n",
    "\n",
    "# kp = np.eye(7)*10\n",
    "# kv = 2*np.diag(kp)\n",
    "\n",
    "# Simulation\n",
    "for i in range(int(end_time/dt)):\n",
    "    posd = [float(j(t_dic[i])) for j in pos]\n",
    "    veld = [float(j(t_dic[i])) for j in vel]\n",
    "    accd = [float(j(t_dic[i])) for j in acc]\n",
    "    posm = ct_robot.get_joint_positions()\n",
    "    velm = ct_robot.get_joint_velocities()\n",
    "    ts1 = time.time()\n",
    "    tau = cacl_tau_GravityCompensation(robot, kp, kv, posd, posm, veld, velm, xyz)\n",
    "    te = time.time()\n",
    "    print('Time for computing torque: %.6f'%(te-ts1))\n",
    "    print(tau)\n",
    "    \n",
    "    ts2 = time.time()\n",
    "    ct_robot.set_joint_target_velocities((np.sign(tau)*1000000).tolist())\n",
    "    ct_robot.set_joint_forces(np.abs(tau).tolist())\n",
    "    pr.step()\n",
    "    measure_pos = np.array(ct_robot.get_joint_positions())\n",
    "    measure_vel = np.array(ct_robot.get_joint_velocities())\n",
    "    te1 = time.time()\n",
    "    print('Time for communicating with V-REP: %.6f'%(te1-ts2))\n",
    "    \n",
    "    # Record error of each joint\n",
    "    err_pos.append(posd - measure_pos)\n",
    "    err_vel.append(veld - measure_vel)\n",
    "    depos.append(posd)\n",
    "    mespos.append(measure_pos)\n"
   ]
  },
  {
   "cell_type": "code",
   "execution_count": null,
   "metadata": {},
   "outputs": [],
   "source": [
    "# Change Unit\n",
    "err_pos = np.array(err_pos)\n",
    "mespos = np.array(mespos)\n",
    "depos = np.array(depos)\n",
    "\n",
    "for name in ['err_pos', 'mespos', 'depos']:\n",
    "    x = eval(name)\n",
    "    x[:, 0:1] = x[:, 0:1]*1000\n",
    "    x[:, 1:2] = x[:, 1:2]*1000\n",
    "    x[:, 6:7] = x[:, 6:7]*1000\n",
    "    x[:, 2:3] = x[:, 2:3]*180/np.pi\n",
    "    x[:, 3:4] = x[:, 3:4]*180/np.pi\n",
    "    x[:, 4:5] = x[:, 4:5]*180/np.pi\n",
    "    x[:, 5:6] = x[:, 5:6]*180/np.pi"
   ]
  },
  {
   "cell_type": "code",
   "execution_count": null,
   "metadata": {},
   "outputs": [],
   "source": [
    "# Plot error of position from joint to joint\n",
    "plt.figure(figsize=(18,10))\n",
    "plt.suptitle('Absoluter value')\n",
    "for i in range(6):\n",
    "    plt.subplot(2,4,i+1)\n",
    "    plt.title('Joint%d'%(i+1))\n",
    "    plt.plot(mespos[:, i], label='mesaured')\n",
    "    plt.plot(depos[:, i], label='desired')\n",
    "    plt.legend()\n",
    "    if i in [0,1,6]:\n",
    "        plt.ylabel('mm')\n",
    "    else:\n",
    "        plt.ylabel('deg')\n"
   ]
  },
  {
   "cell_type": "code",
   "execution_count": null,
   "metadata": {},
   "outputs": [],
   "source": [
    "pr.stop()"
   ]
  },
  {
   "cell_type": "code",
   "execution_count": null,
   "metadata": {},
   "outputs": [],
   "source": [
    "pr.shutdown()"
   ]
  },
  {
   "cell_type": "code",
   "execution_count": null,
   "metadata": {
    "scrolled": false
   },
   "outputs": [],
   "source": [
    "# Plot error of position from joint to joint\n",
    "plt.figure(figsize=(18,10))\n",
    "plt.suptitle('Error')\n",
    "for i in range(6):\n",
    "    plt.subplot(2,4,i+1)\n",
    "    plt.title('Joint%d'%(i+1))\n",
    "    plt.plot(np.array(err_pos)[:, i])\n",
    "    if i in [0,1,6]:\n",
    "        plt.ylabel('mm')\n",
    "    else:\n",
    "        plt.ylabel('deg')"
   ]
  }
 ],
 "metadata": {
  "kernelspec": {
   "display_name": "Python 3",
   "language": "python",
   "name": "python3"
  },
  "language_info": {
   "codemirror_mode": {
    "name": "ipython",
    "version": 3
   },
   "file_extension": ".py",
   "mimetype": "text/x-python",
   "name": "python",
   "nbconvert_exporter": "python",
   "pygments_lexer": "ipython3",
   "version": "3.6.8"
  }
 },
 "nbformat": 4,
 "nbformat_minor": 2
}
