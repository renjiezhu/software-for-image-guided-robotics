{
 "cells": [
  {
   "cell_type": "code",
   "execution_count": 4,
   "metadata": {},
   "outputs": [],
   "source": [
    "import numpy as np\n",
    "import os\n",
    "from DH_dynamics import dh_robot_config\n",
    "# from JS_control import cacl_torque\n",
    "import matplotlib.pyplot as plt\n",
    "from pyrep import PyRep\n",
    "from arm import CtRobot\n",
    "from pyrep.backend import vrep\n",
    "import sympy as sp\n",
    "from pyrep.const import JointMode\n",
    "import time\n",
    "\n",
    "%matplotlib notebook\n",
    "\n",
    "pr = PyRep()"
   ]
  },
  {
   "cell_type": "code",
   "execution_count": 5,
   "metadata": {},
   "outputs": [],
   "source": [
    "import numpy as np\n",
    "\n",
    "def cacl_torque(robot, kv, kp, posd, posm, veld, velm, xyz, accd=None):\n",
    "    '''\n",
    "    robot: Class that contains dynamic information of robot\n",
    "    posd: numpy array of dimension 6 representing desired position and orientation of joint\n",
    "    posm: numpy array of dimension 6 representing desired position and orientation of joint\n",
    "    veld: numpy array of dimension 6 representing measured velocity of joint\n",
    "    velm: numpy array of dimension 6 representing measured velocity of joint\n",
    "    '''\n",
    "    num_joints = robot.num_joints\n",
    "#     M = np.array(robot._Mq[0](*tuple(np.concatenate((posm, xyz)))))\n",
    "    M = np.eye(num_joints)\n",
    "    G = np.array(robot._Gq[0](*tuple(np.concatenate((posm, xyz))))).reshape(num_joints, 1)\n",
    "#     G = np.zeros((7,1))\n",
    "    gain_v = kv.dot((veld-velm).reshape(num_joints, 1))\n",
    "    gain_x = kp.dot((posd-posm).reshape(num_joints, 1))\n",
    "    if accd is not None:\n",
    "        tau = G+M.dot((gain_v + gain_x +accd.reshape(num_joints, 1)))\n",
    "    else:\n",
    "        tau = G+M.dot((gain_v + gain_x))\n",
    "    return tau.reshape(num_joints)\n"
   ]
  },
  {
   "cell_type": "code",
   "execution_count": 6,
   "metadata": {},
   "outputs": [],
   "source": [
    "param = ['D', 'a', 'alpha', 'theta', 'num_joints', 'jointType', 'Tbase', 'L', 'M']\n",
    "config = dict()\n",
    "for i in range(len(param)):\n",
    "    config[param[i]] = np.load('./robot_config/config_ct_7DOF/%s.npy'%param[i])"
   ]
  },
  {
   "cell_type": "code",
   "execution_count": 7,
   "metadata": {},
   "outputs": [
    {
     "name": "stdout",
     "output_type": "stream",
     "text": [
      "Calculating link 0\n",
      "Calculating link 1\n",
      "Calculating link 2\n",
      "Calculating link 3\n",
      "Calculating link 4\n",
      "Calculating link 5\n",
      "Calculating link 6\n",
      "Calculating link 7\n",
      "Calculating Mass and Gravity Matrix...\n",
      "-------------------------------------------------------------------\n",
      "Calculation complete\n"
     ]
    }
   ],
   "source": [
    "robot = dh_robot_config(int(config['num_joints']), config['alpha'], config['theta'], config['D'], config['a'], \n",
    "                                                config['jointType'], config['Tbase'], config['L'], config['M'])\n",
    "robot.initKinematicTransforms()"
   ]
  },
  {
   "cell_type": "code",
   "execution_count": 26,
   "metadata": {},
   "outputs": [],
   "source": [
    "def Gq(q, x=[0, 0, 0]):\n",
    "    G = np.zeros((robot.num_joints, 1))\n",
    "    q.extend(x)\n",
    "#     print(q, type(q))\n",
    "    for ii in range(robot.num_joints):            \n",
    "        G += robot._Gq[ii](*tuple(q))\n",
    "    return G\n",
    "#     return np.sum(np.array([robot._Gq[i](*tuple(q)) for i in range(robot.num_joints)]),axis=1)"
   ]
  },
  {
   "cell_type": "code",
   "execution_count": 27,
   "metadata": {},
   "outputs": [],
   "source": [
    "def Mq(q, x=[0, 0, 0]):\n",
    "    M = np.zeros((robot.num_joints, robot.num_joints))\n",
    "    q.extend(x)\n",
    "    for ii in range(robot.num_links):            \n",
    "        M += robot._Mq[ii](*tuple(q))\n",
    "    return M"
   ]
  },
  {
   "cell_type": "code",
   "execution_count": 28,
   "metadata": {},
   "outputs": [
    {
     "name": "stdout",
     "output_type": "stream",
     "text": [
      "0.0015024280548095704\n"
     ]
    }
   ],
   "source": [
    "ts = time.time()\n",
    "for i in range(100):\n",
    "    Gq([0,0,0,0,0,0,0])\n",
    "print((time.time()-ts)/100)"
   ]
  },
  {
   "cell_type": "code",
   "execution_count": 8,
   "metadata": {},
   "outputs": [
    {
     "data": {
      "text/plain": [
       "(7, 1)"
      ]
     },
     "execution_count": 8,
     "metadata": {},
     "output_type": "execute_result"
    }
   ],
   "source": [
    "robot._Gq[1](0,0,0,0,0,0,0,0,0,0).shape"
   ]
  },
  {
   "cell_type": "code",
   "execution_count": null,
   "metadata": {},
   "outputs": [],
   "source": [
    "robot._Gq"
   ]
  },
  {
   "cell_type": "code",
   "execution_count": null,
   "metadata": {
    "scrolled": true
   },
   "outputs": [],
   "source": [
    "import cloudpickle\n",
    "\n",
    "G = cloudpickle.load(open('./%s/Gq' % 'robot_config', 'rb'))\n",
    "G"
   ]
  },
  {
   "cell_type": "code",
   "execution_count": null,
   "metadata": {},
   "outputs": [],
   "source": [
    "robot._Gq[0](0,0,0,0,0,0,0,0,0,0)"
   ]
  },
  {
   "cell_type": "markdown",
   "metadata": {},
   "source": [
    "## Simulation Set up\n",
    "\n",
    "### For all joints"
   ]
  },
  {
   "cell_type": "code",
   "execution_count": null,
   "metadata": {},
   "outputs": [],
   "source": [
    "pr.launch(os.getcwd() + '/Modified_DH_ct_7DOF.ttt', headless=False)\n",
    "ct_robot = CtRobot()\n",
    "\n",
    "xyz = np.array([0, 0, 0])"
   ]
  },
  {
   "cell_type": "code",
   "execution_count": null,
   "metadata": {},
   "outputs": [],
   "source": [
    "dt = 0.01\n",
    "pr.set_simulation_timestep(dt)"
   ]
  },
  {
   "cell_type": "code",
   "execution_count": null,
   "metadata": {},
   "outputs": [],
   "source": [
    "# Starting simulation\n",
    "pr.start()\n",
    "err_pos = []\n",
    "err_vel = []\n",
    "mespos = []\n",
    "depos = []\n",
    "\n",
    "# Set up joints to be in force control mode\n",
    "for i in range(ct_robot._num_joints):\n",
    "    ct_robot.joints[i].set_joint_mode(JointMode.FORCE)\n",
    "    ct_robot.joints[i].set_control_loop_enabled(False)\n",
    "    ct_robot.joints[i].set_motor_locked_at_zero_velocity(True)\n",
    "for j in range(1, ct_robot._num_joints + 1):\n",
    "    ct_robot.arms[i].set_dynamic(True)\n",
    "ct_robot.arms[0].set_dynamic(False)\n",
    "pr.step()\n",
    "\n",
    "# Desired trajectory\n",
    "end_time = 4\n",
    "t_dic = np.linspace(0, end_time, num=int(end_time/dt), endpoint=True)\n",
    "t = sp.Symbol('t')\n",
    "# disired trajectory of position for each joint\n",
    "\n",
    "# # Sine wave activation\n",
    "# traj = [\n",
    "#     0.0*sp.sin(t*4),\n",
    "#     0.0*sp.cos(t*4),\n",
    "#     (0/180*np.pi)*sp.sin(t*np.pi),\n",
    "#     (0/180*np.pi)*sp.sin(t*4),\n",
    "#     (30/180*np.pi)*sp.cos(t*4),\n",
    "#     (0/180*np.pi)*sp.cos(t*4),\n",
    "#     0.00*sp.sin(t/2)\n",
    "# ]\n",
    "\n",
    "# Step response\n",
    "traj = [\n",
    "    0.000 * sp.ones(1),\n",
    "    0.000 * sp.ones(1),\n",
    "    (0/180*np.pi)*sp.ones(1),\n",
    "    (0/180*np.pi)*sp.ones(1),\n",
    "    (0/180*np.pi)*sp.ones(1),\n",
    "    (0/180*np.pi)*sp.ones(1),\n",
    "    0.00*sp.ones(1)\n",
    "]\n",
    "\n",
    "pos = [sp.lambdify(t, i) for i in traj]\n",
    "vel = [sp.lambdify(t, i.diff(t)) for i in traj]\n",
    "acc = [sp.lambdify(t, i.diff(t).diff(t)) for i in traj]\n",
    "\n",
    "# Gain\n",
    "# kp = np.diag([100, 100, 100, 100, 100, 100, 100])\n",
    "# kv = np.diag([0, 0, 0, 0, 0, 0, 0])\n",
    "kp = np.eye(7)*0.6\n",
    "kv = 6*np.sqrt(kp)\n",
    "\n",
    "# Simulation\n",
    "for i in range(int(end_time/dt)):\n",
    "#     ts = time.time()\n",
    "    posd = np.array([j(t_dic[i]) for j in pos]).squeeze()\n",
    "    veld = np.array([j(t_dic[i]) for j in vel]).squeeze()\n",
    "    accd = np.array([j(t_dic[i]) for j in acc]).squeeze()\n",
    "    posm = np.array(ct_robot.get_joint_positions())\n",
    "    velm = np.array(ct_robot.get_joint_velocities())\n",
    "    tau = cacl_torque(robot, kp, kv, posd, posm, veld, velm, xyz)\n",
    "    # print('Time for computing torque: %.4f'%(time.time()-ts))\n",
    "#     tau[0:2] = 0\n",
    "    print(tau)\n",
    "    ct_robot.set_joint_target_velocities((np.sign(tau)*1000000).tolist())\n",
    "    ct_robot.set_joint_forces(np.abs(tau).tolist())\n",
    "    pr.step()\n",
    "#     ts = time.time()\n",
    "    measure_pos = np.array(ct_robot.get_joint_positions())\n",
    "    measure_vel = np.array(ct_robot.get_joint_velocities())\n",
    "#     print('Time for Interacting with V-REP: %.4f'%(time.time()-ts))\n",
    "    \n",
    "    # Record error of each joint\n",
    "    err_pos.append(posd - measure_pos)\n",
    "    err_vel.append(veld - measure_vel)\n",
    "    depos.append(posd)\n",
    "    mespos.append(measure_pos)\n"
   ]
  },
  {
   "cell_type": "code",
   "execution_count": null,
   "metadata": {},
   "outputs": [],
   "source": [
    "# Change Unit\n",
    "err_pos = np.array(err_pos)\n",
    "mespos = np.array(mespos)\n",
    "depos = np.array(depos)\n",
    "\n",
    "for name in ['err_pos', 'mespos', 'depos']:\n",
    "    x = eval(name)\n",
    "    x[:, 0:1] = x[:, 0:1]*1000\n",
    "    x[:, 1:2] = x[:, 1:2]*1000\n",
    "    x[:, 6:7] = x[:, 6:7]*1000\n",
    "    x[:, 2:3] = x[:, 2:3]*180/np.pi\n",
    "    x[:, 3:4] = x[:, 3:4]*180/np.pi\n",
    "    x[:, 4:5] = x[:, 4:5]*180/np.pi\n",
    "    x[:, 5:6] = x[:, 5:6]*180/np.pi"
   ]
  },
  {
   "cell_type": "code",
   "execution_count": null,
   "metadata": {
    "scrolled": false
   },
   "outputs": [],
   "source": [
    "# Plot error of position from joint to joint\n",
    "plt.figure(figsize=(18,10))\n",
    "plt.suptitle('Error')\n",
    "for i in range(7):\n",
    "    plt.subplot(2,4,i+1)\n",
    "    plt.title('Joint%d'%(i+1))\n",
    "    plt.plot(np.array(err_pos)[:, i])\n",
    "    if i in [0,1,6]:\n",
    "        plt.ylabel('mm')\n",
    "    else:\n",
    "        plt.ylabel('deg')"
   ]
  },
  {
   "cell_type": "code",
   "execution_count": null,
   "metadata": {},
   "outputs": [],
   "source": [
    "# Plot error of position from joint to joint\n",
    "plt.figure(figsize=(18,10))\n",
    "plt.suptitle('Absoluter value')\n",
    "for i in range(7):\n",
    "    plt.subplot(2,4,i+1)\n",
    "    plt.title('Joint%d'%(i+1))\n",
    "    plt.plot(mespos[:, i], label='mesaured')\n",
    "    plt.plot(depos[:, i], label='desired')\n",
    "    plt.legend()\n",
    "    if i in [0,1,6]:\n",
    "        plt.ylabel('mm')\n",
    "    else:\n",
    "        plt.ylabel('deg')\n"
   ]
  },
  {
   "cell_type": "code",
   "execution_count": null,
   "metadata": {},
   "outputs": [],
   "source": [
    "pr.stop()"
   ]
  },
  {
   "cell_type": "code",
   "execution_count": null,
   "metadata": {},
   "outputs": [],
   "source": [
    "pr.shutdown()"
   ]
  }
 ],
 "metadata": {
  "kernelspec": {
   "display_name": "Python 3",
   "language": "python",
   "name": "python3"
  },
  "language_info": {
   "codemirror_mode": {
    "name": "ipython",
    "version": 3
   },
   "file_extension": ".py",
   "mimetype": "text/x-python",
   "name": "python",
   "nbconvert_exporter": "python",
   "pygments_lexer": "ipython3",
   "version": "3.6.8"
  }
 },
 "nbformat": 4,
 "nbformat_minor": 2
}
